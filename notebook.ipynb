{
 "cells": [
  {
   "cell_type": "markdown",
   "metadata": {},
   "source": [
    "# <center>Traitement des données distribuées - TP <br/><br/> Ouggourni Gaelle & Zakarya Ali<br/><br/>Accidents de la route en France</center>"
   ]
  },
  {
   "cell_type": "markdown",
   "metadata": {},
   "source": [
    "Nous avons décidé de travailler sur les données des **accidents de la route en France, entre 2005 et 2015, issues du site du gouvernement [data.gouv.fr](https://www.data.gouv.fr/fr/datasets/base-de-donnees-accidents-corporels-de-la-circulation/)**"
   ]
  },
  {
   "cell_type": "markdown",
   "metadata": {},
   "source": [
    "# Importer les packages"
   ]
  },
  {
   "cell_type": "raw",
   "metadata": {},
   "source": [
    "from pyspark.ml.evaluation import MulticlassClassificationEvaluator#Prérequis non inclus de base\n",
    "!pip install jyquickhelper\n",
    "!pip install --upgrade matplotlib\n",
    "!conda install basemap --yes\n",
    "!conda install -c conda-forge basemap-data-hires --yes"
   ]
  },
  {
   "cell_type": "code",
   "execution_count": 1,
   "metadata": {},
   "outputs": [],
   "source": [
    "from pyspark.ml.evaluation import MulticlassClassificationEvaluator\n",
    "\n",
    "from pyspark import SparkContext\n",
    "from pyspark.sql import SQLContext, SparkSession\n",
    "\n",
    "from pyspark.sql import functions as F\n",
    "from pyspark.sql.functions import udf, lit\n",
    "\n",
    "from pyspark.sql.types import *\n",
    "from pyspark.ml import Pipeline\n",
    "from pyspark.ml.classification import LogisticRegression, RandomForestClassifier\n",
    "from pyspark.ml.feature import StringIndexer, VectorAssembler, OneHotEncoder, StandardScaler\n",
    "from pyspark.ml.stat import ChiSquareTest\n",
    "\n",
    "import pandas as pd\n",
    "import matplotlib.pyplot as plt\n",
    "from mpl_toolkits.basemap import Basemap\n",
    "import numpy"
   ]
  },
  {
   "cell_type": "code",
   "execution_count": 2,
   "metadata": {},
   "outputs": [
    {
     "data": {
      "text/html": [
       "<div id=\"my_id_menu_nb\">run previous cell, wait for 2 seconds</div>\n",
       "<script>\n",
       "function repeat_indent_string(n){\n",
       "    var a = \"\" ;\n",
       "    for ( ; n > 0 ; --n)\n",
       "        a += \"    \";\n",
       "    return a;\n",
       "}\n",
       "// look up into all sections and builds an automated menu //\n",
       "var update_menu_string = function(begin, lfirst, llast, sformat, send, keep_item, begin_format, end_format) {\n",
       "    var anchors = document.getElementsByClassName(\"section\");\n",
       "    if (anchors.length == 0) {\n",
       "        anchors = document.getElementsByClassName(\"text_cell_render rendered_html\");\n",
       "    }\n",
       "    var i,t;\n",
       "    var text_menu = begin;\n",
       "    var text_memo = \"<pre>\\nlength:\" + anchors.length + \"\\n\";\n",
       "    var ind = \"\";\n",
       "    var memo_level = 1;\n",
       "    var href;\n",
       "    var tags = [];\n",
       "    var main_item = 0;\n",
       "    var format_open = 0;\n",
       "    for (i = 0; i <= llast; i++)\n",
       "        tags.push(\"h\" + i);\n",
       "\n",
       "    for (i = 0; i < anchors.length; i++) {\n",
       "        text_memo += \"**\" + anchors[i].id + \"--\\n\";\n",
       "\n",
       "        var child = null;\n",
       "        for(t = 0; t < tags.length; t++) {\n",
       "            var r = anchors[i].getElementsByTagName(tags[t]);\n",
       "            if (r.length > 0) {\n",
       "child = r[0];\n",
       "break;\n",
       "            }\n",
       "        }\n",
       "        if (child == null) {\n",
       "            text_memo += \"null\\n\";\n",
       "            continue;\n",
       "        }\n",
       "        if (anchors[i].hasAttribute(\"id\")) {\n",
       "            // when converted in RST\n",
       "            href = anchors[i].id;\n",
       "            text_memo += \"#1-\" + href;\n",
       "            // passer à child suivant (le chercher)\n",
       "        }\n",
       "        else if (child.hasAttribute(\"id\")) {\n",
       "            // in a notebook\n",
       "            href = child.id;\n",
       "            text_memo += \"#2-\" + href;\n",
       "        }\n",
       "        else {\n",
       "            text_memo += \"#3-\" + \"*\" + \"\\n\";\n",
       "            continue;\n",
       "        }\n",
       "        var title = child.textContent;\n",
       "        var level = parseInt(child.tagName.substring(1,2));\n",
       "\n",
       "        text_memo += \"--\" + level + \"?\" + lfirst + \"--\" + title + \"\\n\";\n",
       "\n",
       "        if ((level < lfirst) || (level > llast)) {\n",
       "            continue ;\n",
       "        }\n",
       "        if (title.endsWith('¶')) {\n",
       "            title = title.substring(0,title.length-1).replace(\"<\", \"&lt;\")\n",
       "         .replace(\">\", \"&gt;\").replace(\"&\", \"&amp;\");\n",
       "        }\n",
       "        if (title.length == 0) {\n",
       "            continue;\n",
       "        }\n",
       "\n",
       "        while (level < memo_level) {\n",
       "            text_menu += end_format + \"</ul>\\n\";\n",
       "            format_open -= 1;\n",
       "            memo_level -= 1;\n",
       "        }\n",
       "        if (level == lfirst) {\n",
       "            main_item += 1;\n",
       "        }\n",
       "        if (keep_item != -1 && main_item != keep_item + 1) {\n",
       "            // alert(main_item + \" - \" + level + \" - \" + keep_item);\n",
       "            continue;\n",
       "        }\n",
       "        while (level > memo_level) {\n",
       "            text_menu += \"<ul>\\n\";\n",
       "            memo_level += 1;\n",
       "        }\n",
       "        text_menu += repeat_indent_string(level-2);\n",
       "        text_menu += begin_format + sformat.replace(\"__HREF__\", href).replace(\"__TITLE__\", title);\n",
       "        format_open += 1;\n",
       "    }\n",
       "    while (1 < memo_level) {\n",
       "        text_menu += end_format + \"</ul>\\n\";\n",
       "        memo_level -= 1;\n",
       "        format_open -= 1;\n",
       "    }\n",
       "    text_menu += send;\n",
       "    //text_menu += \"\\n\" + text_memo;\n",
       "\n",
       "    while (format_open > 0) {\n",
       "        text_menu += end_format;\n",
       "        format_open -= 1;\n",
       "    }\n",
       "    return text_menu;\n",
       "};\n",
       "var update_menu = function() {\n",
       "    var sbegin = \"\";\n",
       "    var sformat = '<a href=\"#__HREF__\">__TITLE__</a>';\n",
       "    var send = \"\";\n",
       "    var begin_format = '<li>';\n",
       "    var end_format = '</li>';\n",
       "    var keep_item = -1;\n",
       "    var text_menu = update_menu_string(sbegin, 2, 4, sformat, send, keep_item,\n",
       "       begin_format, end_format);\n",
       "    var menu = document.getElementById(\"my_id_menu_nb\");\n",
       "    menu.innerHTML=text_menu;\n",
       "};\n",
       "window.setTimeout(update_menu,2000);\n",
       "            </script>"
      ],
      "text/plain": [
       "<IPython.core.display.HTML object>"
      ]
     },
     "execution_count": 2,
     "metadata": {},
     "output_type": "execute_result"
    }
   ],
   "source": [
    "from jyquickhelper import add_notebook_menu\n",
    "add_notebook_menu()"
   ]
  },
  {
   "cell_type": "code",
   "execution_count": 3,
   "metadata": {},
   "outputs": [],
   "source": [
    "spark = SparkSession.builder.appName(\"basic example\").config(\"spark.some.config.option\", \"some-value\").getOrCreate()"
   ]
  },
  {
   "cell_type": "code",
   "execution_count": 4,
   "metadata": {
    "scrolled": false
   },
   "outputs": [
    {
     "data": {
      "text/html": [
       "\n",
       "            <div>\n",
       "                <p><b>SparkSession - in-memory</b></p>\n",
       "                \n",
       "        <div>\n",
       "            <p><b>SparkContext</b></p>\n",
       "\n",
       "            <p><a href=\"http://859e2cf6b399:4040\">Spark UI</a></p>\n",
       "\n",
       "            <dl>\n",
       "              <dt>Version</dt>\n",
       "                <dd><code>v2.3.0</code></dd>\n",
       "              <dt>Master</dt>\n",
       "                <dd><code>local[*]</code></dd>\n",
       "              <dt>AppName</dt>\n",
       "                <dd><code>basic example</code></dd>\n",
       "            </dl>\n",
       "        </div>\n",
       "        \n",
       "            </div>\n",
       "        "
      ],
      "text/plain": [
       "<pyspark.sql.session.SparkSession at 0x7f5d068da1d0>"
      ]
     },
     "execution_count": 4,
     "metadata": {},
     "output_type": "execute_result"
    }
   ],
   "source": [
    "spark"
   ]
  },
  {
   "cell_type": "markdown",
   "metadata": {},
   "source": [
    "# I.  LOADING / FORMATING DATA"
   ]
  },
  {
   "cell_type": "markdown",
   "metadata": {},
   "source": [
    "## Concatenation des différentes années pour chaque type de donnée (vehicule, lieu, etc)"
   ]
  },
  {
   "cell_type": "code",
   "execution_count": 5,
   "metadata": {},
   "outputs": [
    {
     "name": "stdout",
     "output_type": "stream",
     "text": [
      "/home/jovyan/work\r\n"
     ]
    }
   ],
   "source": [
    "!pwd"
   ]
  },
  {
   "cell_type": "code",
   "execution_count": 6,
   "metadata": {},
   "outputs": [
    {
     "name": "stdout",
     "output_type": "stream",
     "text": [
      "/home/jovyan/work/DataSample/vehicules_2005.csv\n",
      "['Num_Acc', 'senc', 'catv', 'occutc', 'obs', 'obsm', 'choc', 'manv', 'num_veh', 'year']\n",
      "not in\n",
      "/home/jovyan/work/DataSample/vehicules_2006.csv\n",
      "['Num_Acc', 'senc', 'catv', 'occutc', 'obs', 'obsm', 'choc', 'manv', 'num_veh', 'year']\n",
      "union\n",
      "/home/jovyan/work/DataSample/vehicules_2007.csv\n",
      "['Num_Acc', 'senc', 'catv', 'occutc', 'obs', 'obsm', 'choc', 'manv', 'num_veh', 'year']\n",
      "union\n",
      "/home/jovyan/work/DataSample/vehicules_2008.csv\n",
      "['Num_Acc', 'senc', 'catv', 'occutc', 'obs', 'obsm', 'choc', 'manv', 'num_veh', 'year']\n",
      "union\n",
      "/home/jovyan/work/DataSample/vehicules_2009.csv\n",
      "['Num_Acc', 'senc', 'catv', 'occutc', 'obs', 'obsm', 'choc', 'manv', 'num_veh', 'year']\n",
      "union\n",
      "/home/jovyan/work/DataSample/vehicules_2010.csv\n",
      "['Num_Acc', 'senc', 'catv', 'occutc', 'obs', 'obsm', 'choc', 'manv', 'num_veh', 'year']\n",
      "union\n",
      "/home/jovyan/work/DataSample/vehicules_2011.csv\n",
      "['Num_Acc', 'senc', 'catv', 'occutc', 'obs', 'obsm', 'choc', 'manv', 'num_veh', 'year']\n",
      "union\n",
      "/home/jovyan/work/DataSample/vehicules_2012.csv\n",
      "['Num_Acc', 'senc', 'catv', 'occutc', 'obs', 'obsm', 'choc', 'manv', 'num_veh', 'year']\n",
      "union\n",
      "/home/jovyan/work/DataSample/vehicules_2013.csv\n",
      "['Num_Acc', 'senc', 'catv', 'occutc', 'obs', 'obsm', 'choc', 'manv', 'num_veh', 'year']\n",
      "union\n",
      "/home/jovyan/work/DataSample/vehicules_2014.csv\n",
      "['Num_Acc', 'senc', 'catv', 'occutc', 'obs', 'obsm', 'choc', 'manv', 'num_veh', 'year']\n",
      "union\n",
      "/home/jovyan/work/DataSample/vehicules_2015.csv\n",
      "['Num_Acc', 'senc', 'catv', 'occutc', 'obs', 'obsm', 'choc', 'manv', 'num_veh', 'year']\n",
      "union\n",
      "/home/jovyan/work/DataSample/lieux_2005.csv\n",
      "['Num_Acc', 'catr', 'voie', 'v1', 'v2', 'circ', 'nbv', 'pr', 'pr1', 'vosp', 'prof', 'plan', 'lartpc', 'larrout', 'surf', 'infra', 'situ', 'env1', 'year']\n",
      "not in\n",
      "/home/jovyan/work/DataSample/lieux_2006.csv\n",
      "['Num_Acc', 'catr', 'voie', 'v1', 'v2', 'circ', 'nbv', 'pr', 'pr1', 'vosp', 'prof', 'plan', 'lartpc', 'larrout', 'surf', 'infra', 'situ', 'env1', 'year']\n",
      "union\n",
      "/home/jovyan/work/DataSample/lieux_2007.csv\n",
      "['Num_Acc', 'catr', 'voie', 'v1', 'v2', 'circ', 'nbv', 'pr', 'pr1', 'vosp', 'prof', 'plan', 'lartpc', 'larrout', 'surf', 'infra', 'situ', 'env1', 'year']\n",
      "union\n",
      "/home/jovyan/work/DataSample/lieux_2008.csv\n",
      "['Num_Acc', 'catr', 'voie', 'v1', 'v2', 'circ', 'nbv', 'pr', 'pr1', 'vosp', 'prof', 'plan', 'lartpc', 'larrout', 'surf', 'infra', 'situ', 'env1', 'year']\n",
      "union\n",
      "/home/jovyan/work/DataSample/lieux_2009.csv\n",
      "['Num_Acc', 'catr', 'voie', 'v1', 'v2', 'circ', 'nbv', 'pr', 'pr1', 'vosp', 'prof', 'plan', 'lartpc', 'larrout', 'surf', 'infra', 'situ', 'env1', 'year']\n",
      "union\n",
      "/home/jovyan/work/DataSample/lieux_2010.csv\n",
      "['Num_Acc', 'catr', 'voie', 'v1', 'v2', 'circ', 'nbv', 'pr', 'pr1', 'vosp', 'prof', 'plan', 'lartpc', 'larrout', 'surf', 'infra', 'situ', 'env1', 'year']\n",
      "union\n",
      "/home/jovyan/work/DataSample/lieux_2011.csv\n",
      "['Num_Acc', 'catr', 'voie', 'v1', 'v2', 'circ', 'nbv', 'pr', 'pr1', 'vosp', 'prof', 'plan', 'lartpc', 'larrout', 'surf', 'infra', 'situ', 'env1', 'year']\n",
      "union\n",
      "/home/jovyan/work/DataSample/lieux_2012.csv\n",
      "['Num_Acc', 'catr', 'voie', 'v1', 'v2', 'circ', 'nbv', 'pr', 'pr1', 'vosp', 'prof', 'plan', 'lartpc', 'larrout', 'surf', 'infra', 'situ', 'env1', 'year']\n",
      "union\n",
      "/home/jovyan/work/DataSample/lieux_2013.csv\n",
      "['Num_Acc', 'catr', 'voie', 'v1', 'v2', 'circ', 'nbv', 'pr', 'pr1', 'vosp', 'prof', 'plan', 'lartpc', 'larrout', 'surf', 'infra', 'situ', 'env1', 'year']\n",
      "union\n",
      "/home/jovyan/work/DataSample/lieux_2014.csv\n",
      "['Num_Acc', 'catr', 'voie', 'v1', 'v2', 'circ', 'nbv', 'pr', 'pr1', 'vosp', 'prof', 'plan', 'lartpc', 'larrout', 'surf', 'infra', 'situ', 'env1', 'year']\n",
      "union\n",
      "/home/jovyan/work/DataSample/lieux_2015.csv\n",
      "['Num_Acc', 'catr', 'voie', 'v1', 'v2', 'circ', 'nbv', 'pr', 'pr1', 'vosp', 'prof', 'plan', 'lartpc', 'larrout', 'surf', 'infra', 'situ', 'env1', 'year']\n",
      "union\n",
      "/home/jovyan/work/DataSample/usagers_2005.csv\n",
      "['Num_Acc', 'place', 'catu', 'grav', 'sexe', 'trajet', 'secu', 'locp', 'actp', 'etatp', 'an_nais', 'num_veh', 'year']\n",
      "not in\n",
      "/home/jovyan/work/DataSample/usagers_2006.csv\n",
      "['Num_Acc', 'place', 'catu', 'grav', 'sexe', 'trajet', 'secu', 'locp', 'actp', 'etatp', 'an_nais', 'num_veh', 'year']\n",
      "union\n",
      "/home/jovyan/work/DataSample/usagers_2007.csv\n",
      "['Num_Acc', 'place', 'catu', 'grav', 'sexe', 'trajet', 'secu', 'locp', 'actp', 'etatp', 'an_nais', 'num_veh', 'year']\n",
      "union\n",
      "/home/jovyan/work/DataSample/usagers_2008.csv\n",
      "['Num_Acc', 'place', 'catu', 'grav', 'sexe', 'trajet', 'secu', 'locp', 'actp', 'etatp', 'an_nais', 'num_veh', 'year']\n",
      "union\n",
      "/home/jovyan/work/DataSample/usagers_2009.csv\n",
      "['Num_Acc', 'place', 'catu', 'grav', 'sexe', 'trajet', 'secu', 'locp', 'actp', 'etatp', 'an_nais', 'num_veh', 'year']\n",
      "union\n",
      "/home/jovyan/work/DataSample/usagers_2010.csv\n",
      "['Num_Acc', 'place', 'catu', 'grav', 'sexe', 'trajet', 'secu', 'locp', 'actp', 'etatp', 'an_nais', 'num_veh', 'year']\n",
      "union\n",
      "/home/jovyan/work/DataSample/usagers_2011.csv\n",
      "['Num_Acc', 'place', 'catu', 'grav', 'sexe', 'trajet', 'secu', 'locp', 'actp', 'etatp', 'an_nais', 'num_veh', 'year']\n",
      "union\n",
      "/home/jovyan/work/DataSample/usagers_2012.csv\n",
      "['Num_Acc', 'place', 'catu', 'grav', 'sexe', 'trajet', 'secu', 'locp', 'actp', 'etatp', 'an_nais', 'num_veh', 'year']\n",
      "union\n",
      "/home/jovyan/work/DataSample/usagers_2013.csv\n",
      "['Num_Acc', 'place', 'catu', 'grav', 'sexe', 'trajet', 'secu', 'locp', 'actp', 'etatp', 'an_nais', 'num_veh', 'year']\n",
      "union\n",
      "/home/jovyan/work/DataSample/usagers_2014.csv\n",
      "['Num_Acc', 'place', 'catu', 'grav', 'sexe', 'trajet', 'secu', 'locp', 'actp', 'etatp', 'an_nais', 'num_veh', 'year']\n",
      "union\n",
      "/home/jovyan/work/DataSample/usagers_2015.csv\n",
      "['Num_Acc', 'place', 'catu', 'grav', 'sexe', 'trajet', 'secu', 'locp', 'actp', 'etatp', 'an_nais', 'num_veh', 'year']\n",
      "union\n",
      "/home/jovyan/work/DataSample/caracteristiques_2005.csv\n",
      "['Num_Acc', 'an', 'mois', 'jour', 'hrmn', 'lum', 'agg', 'int', 'atm', 'col', 'com', 'adr', 'gps', 'lat', 'long', 'dep', 'year']\n",
      "not in\n",
      "/home/jovyan/work/DataSample/caracteristiques_2006.csv\n",
      "['Num_Acc', 'an', 'mois', 'jour', 'hrmn', 'lum', 'agg', 'int', 'atm', 'col', 'com', 'adr', 'gps', 'lat', 'long', 'dep', 'year']\n",
      "union\n",
      "/home/jovyan/work/DataSample/caracteristiques_2007.csv\n",
      "['Num_Acc', 'an', 'mois', 'jour', 'hrmn', 'lum', 'agg', 'int', 'atm', 'col', 'com', 'adr', 'gps', 'lat', 'long', 'dep', 'year']\n",
      "union\n",
      "/home/jovyan/work/DataSample/caracteristiques_2008.csv\n",
      "['Num_Acc', 'an', 'mois', 'jour', 'hrmn', 'lum', 'agg', 'int', 'atm', 'col', 'com', 'adr', 'gps', 'lat', 'long', 'dep', 'year']\n",
      "union\n",
      "/home/jovyan/work/DataSample/caracteristiques_2009.csv\n",
      "['Num_Acc', 'an', 'mois', 'jour', 'hrmn', 'lum', 'agg', 'int', 'atm', 'col', 'com', 'adr', 'gps', 'lat', 'long', 'dep', 'year']\n",
      "union\n",
      "/home/jovyan/work/DataSample/caracteristiques_2010.csv\n",
      "['Num_Acc', 'an', 'mois', 'jour', 'hrmn', 'lum', 'agg', 'int', 'atm', 'col', 'com', 'adr', 'gps', 'lat', 'long', 'dep', 'year']\n",
      "union\n",
      "/home/jovyan/work/DataSample/caracteristiques_2011.csv\n",
      "['Num_Acc', 'an', 'mois', 'jour', 'hrmn', 'lum', 'agg', 'int', 'atm', 'col', 'com', 'adr', 'gps', 'lat', 'long', 'dep', 'year']\n",
      "union\n",
      "/home/jovyan/work/DataSample/caracteristiques_2012.csv\n",
      "['Num_Acc', 'an', 'mois', 'jour', 'hrmn', 'lum', 'agg', 'int', 'atm', 'col', 'com', 'adr', 'gps', 'lat', 'long', 'dep', 'year']\n",
      "union\n",
      "/home/jovyan/work/DataSample/caracteristiques_2013.csv\n",
      "['Num_Acc', 'an', 'mois', 'jour', 'hrmn', 'lum', 'agg', 'int', 'atm', 'col', 'com', 'adr', 'gps', 'lat', 'long', 'dep', 'year']\n",
      "union\n",
      "/home/jovyan/work/DataSample/caracteristiques_2014.csv\n",
      "['Num_Acc', 'an', 'mois', 'jour', 'hrmn', 'lum', 'agg', 'int', 'atm', 'col', 'com', 'adr', 'gps', 'lat', 'long', 'dep', 'year']\n",
      "union\n",
      "/home/jovyan/work/DataSample/caracteristiques_2015.csv\n",
      "['Num_Acc', 'an', 'mois', 'jour', 'hrmn', 'lum', 'agg', 'int', 'atm', 'col', 'com', 'adr', 'gps', 'lat', 'long', 'dep', 'year']\n",
      "union\n",
      "+----+------+\n",
      "|year| count|\n",
      "+----+------+\n",
      "|2007|144130|\n",
      "|2015| 99778|\n",
      "|2006|142300|\n",
      "|2013| 98925|\n",
      "|2014|101762|\n",
      "|2012|105814|\n",
      "|2009|126347|\n",
      "|2005|149764|\n",
      "|2010|117743|\n",
      "|2011|113854|\n",
      "|2008|131048|\n",
      "+----+------+\n",
      "\n"
     ]
    }
   ],
   "source": [
    "years = list(range(2005,2016))\n",
    "\n",
    "fileId = ['vehicules','lieux','usagers','caracteristiques']\n",
    "result = {}\n",
    "\n",
    "for file in fileId:\n",
    "    \n",
    "    if file in result.keys():\n",
    "        #avoid to stack if we already compute the loop\n",
    "        print(file+' already exists')\n",
    "    \n",
    "    else:\n",
    "        \n",
    "        for year in years:\n",
    "            path = '/home/jovyan/work/DataSample/'+ file + '_' + str(year) +'.csv'\n",
    "            print(path)\n",
    "            \n",
    "            df_new = spark.read.csv(path, header=True, sep=\",\", inferSchema=True)\n",
    "            \n",
    "            if len(df_new.columns) == 1:\n",
    "                df_new = spark.read.csv(path, header=True, sep=\"\\t\", inferSchema=True)\n",
    "            \n",
    "            df_new = df_new.withColumn(\"year\", lit(year))\n",
    "            print(df_new.columns)\n",
    "            \n",
    "            if file not in result.keys():\n",
    "                print(\"not in\")\n",
    "                result[file] = df_new\n",
    "            \n",
    "            else:\n",
    "                print(\"union\")\n",
    "                result[file] = result[file].union(df_new)\n",
    "            \n",
    "result['vehicules'].groupby(\"year\").count().show()"
   ]
  },
  {
   "cell_type": "markdown",
   "metadata": {},
   "source": [
    "## Join the 4 dataframes into one big dataframe (and avoid duplicates !)"
   ]
  },
  {
   "cell_type": "code",
   "execution_count": 7,
   "metadata": {},
   "outputs": [],
   "source": [
    "df_lieux = result['lieux']\n",
    "df_carac = result['caracteristiques']\n",
    "df_usagers = result['usagers']\n",
    "df_vehicules = result['vehicules']\n",
    "\n",
    "to_join = [df_carac, df_usagers ,df_vehicules]\n",
    "\n",
    "df = df_lieux\n",
    "key = 'Num_Acc'\n",
    "\n",
    "for df_right in to_join:\n",
    "    common_colname = [col for col in df_right.columns if col in df.columns ]\n",
    "    common_colname.remove(key)\n",
    "    \n",
    "    if common_colname:\n",
    "        \n",
    "        for duplicate in common_colname:\n",
    "            df_right = df_right.drop(duplicate)\n",
    "    \n",
    "    df = df.join(df_right, on=key, how='inner')"
   ]
  },
  {
   "cell_type": "markdown",
   "metadata": {},
   "source": [
    "## On vérifie que les duplicates ont bien été enlevé"
   ]
  },
  {
   "cell_type": "code",
   "execution_count": 8,
   "metadata": {},
   "outputs": [
    {
     "name": "stdout",
     "output_type": "stream",
     "text": [
      "Il n'y a pas de duplicates !\n"
     ]
    }
   ],
   "source": [
    "count={}\n",
    "duplicates_found = False\n",
    "\n",
    "for col in df.columns:\n",
    "    \n",
    "    if col in count.keys():\n",
    "        duplicates_found = True\n",
    "        print(\"La colonne {} est dupliquée\".format(col))\n",
    "    \n",
    "    else:\n",
    "        count[col] = 1\n",
    "\n",
    "if duplicates_found:\n",
    "    print(\"Il y a des duplicates !\")\n",
    "else:\n",
    "    print(\"Il n'y a pas de duplicates !\")"
   ]
  },
  {
   "cell_type": "markdown",
   "metadata": {},
   "source": [
    "## Ajoute la colonne \"age\""
   ]
  },
  {
   "cell_type": "code",
   "execution_count": 9,
   "metadata": {},
   "outputs": [
    {
     "name": "stdout",
     "output_type": "stream",
     "text": [
      "+---+----+-------+\n",
      "|age|year|an_nais|\n",
      "+---+----+-------+\n",
      "| 31|2005|   1974|\n",
      "| 33|2005|   1972|\n",
      "| 26|2005|   1979|\n",
      "| 26|2005|   1979|\n",
      "| 19|2005|   1986|\n",
      "| 19|2005|   1986|\n",
      "| 33|2005|   1972|\n",
      "| 33|2005|   1972|\n",
      "| 25|2005|   1980|\n",
      "| 25|2005|   1980|\n",
      "|  5|2005|   2000|\n",
      "|  5|2005|   2000|\n",
      "|  4|2005|   2001|\n",
      "|  4|2005|   2001|\n",
      "| 32|2005|   1973|\n",
      "| 32|2005|   1973|\n",
      "| 27|2005|   1978|\n",
      "| 27|2005|   1978|\n",
      "| 35|2005|   1970|\n",
      "| 35|2005|   1970|\n",
      "+---+----+-------+\n",
      "only showing top 20 rows\n",
      "\n"
     ]
    }
   ],
   "source": [
    "df = df.withColumn(\"age\", df.year - df.an_nais)\n",
    "df.select([\"age\", \"year\", \"an_nais\"]).show()"
   ]
  },
  {
   "cell_type": "markdown",
   "metadata": {},
   "source": [
    "## Afficher les 10 premières colonnes et les 20 premières lignes de notre gros dataframe"
   ]
  },
  {
   "cell_type": "code",
   "execution_count": 10,
   "metadata": {},
   "outputs": [
    {
     "name": "stdout",
     "output_type": "stream",
     "text": [
      "+------------+----+----+---+----+----+---+---+---+----+\n",
      "|     Num_Acc|catr|voie| v1|  v2|circ|nbv| pr|pr1|vosp|\n",
      "+------------+----+----+---+----+----+---+---+---+----+\n",
      "|200500000700|   3|   8|  8|   A|   2|  2|0.0|  0|   0|\n",
      "|200500000700|   3|   8|  8|   A|   2|  2|0.0|  0|   0|\n",
      "|200500000757|   3| 935|  0|null|   2|  0|0.0|  0|   0|\n",
      "|200500000757|   3| 935|  0|null|   2|  0|0.0|  0|   0|\n",
      "|200500000757|   3| 935|  0|null|   2|  0|0.0|  0|   0|\n",
      "|200500000757|   3| 935|  0|null|   2|  0|0.0|  0|   0|\n",
      "|200500000963|   2| 201|  0|null|   2|  3|0.0|  0|   0|\n",
      "|200500000963|   2| 201|  0|null|   2|  3|0.0|  0|   0|\n",
      "|200500000963|   2| 201|  0|null|   2|  3|0.0|  0|   0|\n",
      "|200500000963|   2| 201|  0|null|   2|  3|0.0|  0|   0|\n",
      "|200500000963|   2| 201|  0|null|   2|  3|0.0|  0|   0|\n",
      "|200500000963|   2| 201|  0|null|   2|  3|0.0|  0|   0|\n",
      "|200500000963|   2| 201|  0|null|   2|  3|0.0|  0|   0|\n",
      "|200500000963|   2| 201|  0|null|   2|  3|0.0|  0|   0|\n",
      "|200500000963|   2| 201|  0|null|   2|  3|0.0|  0|   0|\n",
      "|200500000963|   2| 201|  0|null|   2|  3|0.0|  0|   0|\n",
      "|200500001065|   3|   1|  0|null|   2|  2|3.0|950|   0|\n",
      "|200500001065|   3|   1|  0|null|   2|  2|3.0|950|   0|\n",
      "|200500001065|   3|   1|  0|null|   2|  2|3.0|950|   0|\n",
      "|200500001065|   3|   1|  0|null|   2|  2|3.0|950|   0|\n",
      "+------------+----+----+---+----+----+---+---+---+----+\n",
      "only showing top 20 rows\n",
      "\n"
     ]
    }
   ],
   "source": [
    "nb_col_à_afficher = 10\n",
    "nb_lignes_à_afficher = 20\n",
    "\n",
    "df.select([c for c in df.columns[:nb_col_à_afficher]]).show(nb_lignes_à_afficher)"
   ]
  },
  {
   "cell_type": "markdown",
   "metadata": {},
   "source": [
    "# II.  Exploratory data analysis"
   ]
  },
  {
   "cell_type": "markdown",
   "metadata": {},
   "source": [
    "## Lien entre luminosité/éclairage et nombre de sinistres (methode 1: sans passer par Pandas)"
   ]
  },
  {
   "cell_type": "code",
   "execution_count": 11,
   "metadata": {},
   "outputs": [
    {
     "name": "stdout",
     "output_type": "stream",
     "text": [
      "+---+-------+\n",
      "|lum|  count|\n",
      "+---+-------+\n",
      "|  1|2315600|\n",
      "|  3| 258926|\n",
      "|  5| 512466|\n",
      "|  4|  25446|\n",
      "|  2| 184252|\n",
      "+---+-------+\n",
      "\n"
     ]
    }
   ],
   "source": [
    "sinitres_luminosite_spark_format = df.groupBy('lum').count().collect()\n",
    "sinitres_luminosite_dict_format = [ elt.asDict() for elt in sinitres_luminosite_spark_format]\n",
    "\n",
    "df.groupBy('lum').count().show()"
   ]
  },
  {
   "cell_type": "code",
   "execution_count": 12,
   "metadata": {},
   "outputs": [
    {
     "name": "stdout",
     "output_type": "stream",
     "text": [
      "[25446, 184252, 258926, 512466, 2315600]\n",
      "{'lum': 4, 'count': 25446, 'label': 'Nuit avec éclairage public non allumé'}\n",
      "{'lum': 2, 'count': 184252, 'label': 'Nuit avec éclairage public allumé'}\n",
      "{'lum': 3, 'count': 258926, 'label': 'Crépuscule ou aube'}\n",
      "{'lum': 5, 'count': 512466, 'label': 'Nuit sans éclairage public'}\n",
      "{'lum': 1, 'count': 2315600, 'label': 'Plein jour'}\n",
      "['Nuit avec éclairage public non allumé', 'Nuit avec éclairage public allumé', 'Crépuscule ou aube', 'Nuit sans éclairage public', 'Plein jour']\n"
     ]
    },
    {
     "data": {
      "text/plain": [
       "<BarContainer object of 5 artists>"
      ]
     },
     "execution_count": 12,
     "metadata": {},
     "output_type": "execute_result"
    },
    {
     "data": {
      "image/png": "[encoded data removed]",
      "text/plain": [
       "<Figure size 432x288 with 1 Axes>"
      ]
     },
     "metadata": {},
     "output_type": "display_data"
    }
   ],
   "source": [
    "y = [\"Plein jour\", \"Crépuscule ou aube\", \"Nuit sans éclairage public\", \"Nuit avec éclairage public non allumé\", \"Nuit avec éclairage public allumé\"]\n",
    "widths = []\n",
    "\n",
    "i = 0\n",
    "\n",
    "for dic in sinitres_luminosite_dict_format:\n",
    "    dic[\"label\"] = y[i]\n",
    "    \n",
    "    valeur = dic[\"count\"]\n",
    "    widths.append(valeur)\n",
    "    \n",
    "    i = i + 1\n",
    "    \n",
    "ordered_widths = sorted(widths)\n",
    "ordered_labels = []\n",
    "\n",
    "print(ordered_widths)\n",
    "\n",
    "for width in ordered_widths:\n",
    "    \n",
    "    for dic in sinitres_luminosite_dict_format:\n",
    "        \n",
    "        if width == dic[\"count\"]:\n",
    "            print(dic)\n",
    "            label = dic[\"label\"]\n",
    "            ordered_labels.append(label)\n",
    "\n",
    "print(ordered_labels)\n",
    "plt.barh(ordered_labels, ordered_widths)"
   ]
  },
  {
   "cell_type": "markdown",
   "metadata": {},
   "source": [
    "## Zoom sur les accidents piétons (methode 2 : en passant par Pandas)"
   ]
  },
  {
   "cell_type": "code",
   "execution_count": 13,
   "metadata": {},
   "outputs": [
    {
     "name": "stdout",
     "output_type": "stream",
     "text": [
      "df n'a pas été modifié \n",
      "df: \n",
      "+----+\n",
      "|catu|\n",
      "+----+\n",
      "|   1|\n",
      "|   2|\n",
      "|   1|\n",
      "|   1|\n",
      "|   1|\n",
      "|   1|\n",
      "|   1|\n",
      "|   1|\n",
      "|   1|\n",
      "|   1|\n",
      "+----+\n",
      "only showing top 10 rows\n",
      "\n",
      "df2 ne contient que les données sur usagers piétons \n",
      "df2: \n",
      "+----+\n",
      "|catu|\n",
      "+----+\n",
      "|   3|\n",
      "|   3|\n",
      "|   3|\n",
      "|   3|\n",
      "|   3|\n",
      "|   3|\n",
      "|   3|\n",
      "|   3|\n",
      "|   3|\n",
      "|   3|\n",
      "+----+\n",
      "only showing top 10 rows\n",
      "\n"
     ]
    }
   ],
   "source": [
    "df2 = df.filter(df.catu == 3)\n",
    "\n",
    "print(\"df n'a pas été modifié \\ndf: \")\n",
    "df.select(\"catu\").show(10)\n",
    "\n",
    "print(\"df2 ne contient que les données sur usagers piétons \\ndf2: \")\n",
    "df2.select(\"catu\").show(10)"
   ]
  },
  {
   "cell_type": "code",
   "execution_count": 14,
   "metadata": {},
   "outputs": [
    {
     "name": "stdout",
     "output_type": "stream",
     "text": [
      "\n",
      "Pandas DataFrame: \n",
      "              Num_Acc  catr  voie   v1    v2  circ  nbv      pr    pr1  vosp  \\\n",
      "0       200500002139     4   0.0  0.0  None   2.0  2.0     NaN    NaN   0.0   \n",
      "1       200500002222     4   0.0  0.0  None   2.0  2.0     NaN    NaN   0.0   \n",
      "2       200500003823     4   0.0  0.0  None   1.0  4.0     NaN    NaN   0.0   \n",
      "3       200500003892     4   0.0  0.0  None   2.0  3.0     NaN    NaN   1.0   \n",
      "4       200500004210     3   0.0  0.0  None   2.0  1.0     NaN    NaN   0.0   \n",
      "5       200500004620     4   NaN  0.0  None   1.0  2.0  1009.0    0.0   0.0   \n",
      "6       200500005974     4   0.0  0.0  None   1.0  1.0     NaN    NaN   0.0   \n",
      "7       200500007858     4   0.0  0.0  None   2.0  3.0     NaN    NaN   0.0   \n",
      "8       200500007958     6   0.0  0.0  None   0.0  0.0     NaN    NaN   0.0   \n",
      "9       200500008372     4   0.0  0.0  None   4.0  3.0     1.0    0.0   0.0   \n",
      "10      200500008611     4   0.0  0.0  None   2.0  2.0     NaN    NaN   0.0   \n",
      "11      200500008940     4   NaN  0.0  None   2.0  4.0  2709.0    6.0   0.0   \n",
      "12      200500009717     3   0.0  0.0  None   1.0  1.0     NaN    NaN   0.0   \n",
      "13      200500009904     4   0.0  0.0  None   2.0  2.0     NaN    NaN   0.0   \n",
      "14      200500010087     4   0.0  0.0  None   2.0  2.0     NaN    NaN   0.0   \n",
      "15      200500010368     4   0.0  0.0  None   2.0  1.0     NaN    NaN   0.0   \n",
      "16      200500010368     4   0.0  0.0  None   2.0  1.0     NaN    NaN   0.0   \n",
      "17      200500011082     4   0.0  0.0  None   2.0  0.0     0.0    0.0   0.0   \n",
      "18      200500012367     4   0.0  0.0  None   2.0  2.0     0.0    0.0   0.0   \n",
      "19      200500014689     4   0.0  0.0  None   2.0  4.0     NaN    NaN   0.0   \n",
      "20      200500014864     4   0.0  0.0  None   2.0  1.0     NaN    NaN   0.0   \n",
      "21      200500015934     4   0.0  0.0  None   2.0  1.0     NaN    NaN   0.0   \n",
      "22      200500019003     4   0.0  0.0  None   2.0  2.0     NaN    NaN   0.0   \n",
      "23      200500019994     4   0.0  0.0  None   1.0  2.0     NaN    NaN   3.0   \n",
      "24      200500028922     4   0.0  0.0  None   3.0  3.0     NaN    NaN   0.0   \n",
      "25      200500030066     4   NaN  0.0  None   2.0  2.0  1009.0    0.0   0.0   \n",
      "26      200500030858     4   0.0  0.0  None   2.0  2.0     NaN    NaN   0.0   \n",
      "27      200500033789     6   0.0  0.0  None   2.0  1.0     NaN    NaN   0.0   \n",
      "28      200500034304     2   0.0  0.0  None   2.0  2.0     NaN    NaN   0.0   \n",
      "29      200500036197     4   0.0  0.0  None   1.0  1.0     NaN    NaN   0.0   \n",
      "...              ...   ...   ...  ...   ...   ...  ...     ...    ...   ...   \n",
      "149756  201500029969     4   0.0  NaN  None   2.0  0.0     NaN    NaN   0.0   \n",
      "149757  201500030457     4   0.0  NaN     A   3.0  2.0     NaN    NaN   0.0   \n",
      "149758  201500031001     6   0.0  NaN  None   0.0  0.0     NaN    NaN   0.0   \n",
      "149759  201500031880     3   0.0  NaN  None   3.0  1.0     NaN    NaN   0.0   \n",
      "149760  201500033116     4   0.0  NaN  None   3.0  4.0     NaN    NaN   0.0   \n",
      "149761  201500033116     4   0.0  NaN  None   3.0  4.0     NaN    NaN   0.0   \n",
      "149762  201500033843     3  34.0  NaN  None   2.0  4.0     9.0  744.0   0.0   \n",
      "149763  201500033843     3  34.0  NaN  None   2.0  4.0     9.0  744.0   0.0   \n",
      "149764  201500034311     4   0.0  NaN  None   2.0  2.0     NaN    NaN   0.0   \n",
      "149765  201500034476     4   0.0  NaN  None   2.0  2.0     NaN    NaN   0.0   \n",
      "149766  201500035139     4   0.0  NaN  None   2.0  2.0     NaN    NaN   0.0   \n",
      "149767  201500035422     4   0.0  NaN  None   2.0  2.0     NaN    NaN   0.0   \n",
      "149768  201500037181     3  46.0  NaN  None   2.0  2.0     4.0  500.0   0.0   \n",
      "149769  201500038007     4   0.0  NaN  None   2.0  4.0     NaN    NaN   0.0   \n",
      "149770  201500039063     4   0.0  NaN  None   2.0  2.0     NaN    NaN   0.0   \n",
      "149771  201500039699     3   0.0  NaN  None   1.0  2.0     NaN    NaN   0.0   \n",
      "149772  201500040176     4   0.0  NaN  None   2.0  2.0     NaN    NaN   0.0   \n",
      "149773  201500040796     4   0.0  NaN  None   2.0  2.0     NaN    NaN   0.0   \n",
      "149774  201500042316     3   0.0  NaN  None   1.0  2.0     0.0    1.0   0.0   \n",
      "149775  201500042330     4   0.0  NaN  None   2.0  2.0     0.0    1.0   0.0   \n",
      "149776  201500044301     4   NaN  NaN  None   2.0  2.0     NaN    NaN   0.0   \n",
      "149777  201500050763     4   0.0  NaN  None   1.0  1.0     NaN    NaN   0.0   \n",
      "149778  201500052317     4   0.0  NaN  None   0.0  1.0     NaN    NaN   0.0   \n",
      "149779  201500052624     4   0.0  NaN  None   2.0  2.0     NaN    NaN   0.0   \n",
      "149780  201500054110     4   0.0  NaN  None   2.0  4.0     NaN    NaN   0.0   \n",
      "149781  201500054898     4   0.0  NaN  None   1.0  1.0     NaN    NaN   0.0   \n",
      "149782  201500055403     4   0.0  NaN  None   0.0  1.0     NaN    NaN   0.0   \n",
      "149783  201500057152     4   NaN  NaN  None   2.0  2.0     NaN    NaN   0.0   \n",
      "149784  201500057152     4   NaN  NaN  None   2.0  2.0     NaN    NaN   0.0   \n",
      "149785  201500058047     9   0.0  NaN  None   1.0  1.0     NaN    NaN   0.0   \n",
      "\n",
      "        ...   an_nais  num_veh  senc  catv  occutc   obs  obsm  choc  manv  \\\n",
      "0       ...    2001.0      A01     0     7       0   0.0   1.0   3.0  15.0   \n",
      "1       ...    1996.0      A01     0     7       0   0.0   1.0   2.0   1.0   \n",
      "2       ...    1989.0      A01     0     7       0   0.0   1.0   1.0   1.0   \n",
      "3       ...    1983.0      A01     0     7       0   0.0   1.0   3.0   1.0   \n",
      "4       ...    1952.0      A01     0     7       0   0.0   1.0   1.0   1.0   \n",
      "5       ...    1937.0      A01     0     7       0   0.0   1.0   1.0  15.0   \n",
      "6       ...    1986.0      A01     0     7       0   0.0   1.0   3.0  15.0   \n",
      "7       ...    1929.0      A01     0     7       0   0.0   1.0   3.0   1.0   \n",
      "8       ...    1950.0      A01     1    14       0   0.0   0.0   0.0  20.0   \n",
      "9       ...    1983.0      A01     0     7       0   0.0   1.0   3.0  21.0   \n",
      "10      ...    1993.0      A01     0     7       0   0.0   1.0   0.0   2.0   \n",
      "11      ...    1953.0      A01     0     7       0   0.0   1.0   1.0   1.0   \n",
      "12      ...    1997.0      A01     0     7       0   0.0   1.0   1.0   2.0   \n",
      "13      ...    1993.0      A01     0     7       0   0.0   1.0   2.0   1.0   \n",
      "14      ...    1921.0      A01     0     7       0   0.0   1.0   4.0   4.0   \n",
      "15      ...    1954.0      A01     0     7       0   0.0   1.0   1.0   1.0   \n",
      "16      ...    1956.0      A01     0     7       0   0.0   1.0   1.0   1.0   \n",
      "17      ...    1949.0      A01     0     7       0   0.0   1.0   2.0   1.0   \n",
      "18      ...    1937.0      A01     0     5       0   0.0   1.0   1.0   2.0   \n",
      "19      ...    1950.0      A01     0     7       0   0.0   1.0   1.0  15.0   \n",
      "20      ...    1996.0      A01     0     7       0   0.0   1.0   2.0   1.0   \n",
      "21      ...    1994.0      A01     0     7       0   0.0   1.0   7.0   0.0   \n",
      "22      ...    2002.0      A01     0     7       0   0.0   1.0   1.0   2.0   \n",
      "23      ...    1948.0      A01     0     7       0   0.0   1.0   3.0  11.0   \n",
      "24      ...    1925.0      A01     0     7       0   0.0   1.0   3.0   9.0   \n",
      "25      ...    1999.0      A01     0     2       0   0.0   1.0   1.0   1.0   \n",
      "26      ...    1963.0      A01     0     7       0   0.0   1.0   1.0   1.0   \n",
      "27      ...    1952.0      A01     0     7       0   0.0   1.0   0.0   1.0   \n",
      "28      ...    1960.0      A01     0     7       0   0.0   1.0   1.0   1.0   \n",
      "29      ...    1999.0      A01     0     7       0   0.0   1.0   3.0   1.0   \n",
      "...     ...       ...      ...   ...   ...     ...   ...   ...   ...   ...   \n",
      "149756  ...    1951.0      A01     1     1       0  14.0   1.0   0.0   0.0   \n",
      "149757  ...    2000.0      A01     0     7       0   0.0   1.0   1.0   1.0   \n",
      "149758  ...    2008.0      A01     0     7       0   0.0   1.0   3.0   1.0   \n",
      "149759  ...    1965.0      A01     0     7       0   0.0   1.0   2.0  12.0   \n",
      "149760  ...    1927.0      A01     0     7       0   0.0   1.0   0.0   0.0   \n",
      "149761  ...    1936.0      A01     0     7       0   0.0   1.0   0.0   0.0   \n",
      "149762  ...    1999.0      A01     0    34       0   0.0   1.0   0.0   0.0   \n",
      "149763  ...    1999.0      A01     0    34       0   0.0   1.0   0.0   0.0   \n",
      "149764  ...    2007.0      A01     0     7       0   0.0   1.0   2.0   1.0   \n",
      "149765  ...    2002.0      A01     0    37       0   0.0   1.0   1.0  16.0   \n",
      "149766  ...    1988.0      A01     0     7       0   0.0   1.0   0.0   0.0   \n",
      "149767  ...    1945.0      Z01     1     7       0   0.0   1.0   0.0   0.0   \n",
      "149768  ...    1930.0      A01     0     7       0   0.0   1.0   1.0   1.0   \n",
      "149769  ...    1930.0      A01     0     7       0   0.0   1.0   4.0   4.0   \n",
      "149770  ...    1937.0      A01     0     7       0   0.0   1.0   1.0   1.0   \n",
      "149771  ...    1984.0      A01     0     7       0   0.0   1.0   1.0  15.0   \n",
      "149772  ...    1958.0      A01     0     7       0   0.0   1.0   2.0   1.0   \n",
      "149773  ...    2011.0      A01     0     1       0   0.0   1.0   1.0   1.0   \n",
      "149774  ...    1991.0      A01     0     7       0   0.0   1.0   2.0  16.0   \n",
      "149775  ...    2006.0      A01     0     7       0   0.0   1.0   2.0   2.0   \n",
      "149776  ...    2008.0      A01     0     7       0   0.0   1.0   3.0   1.0   \n",
      "149777  ...    1979.0      A01     0     7       0   0.0   1.0   7.0   1.0   \n",
      "149778  ...    1995.0      Z01     1    30       0   0.0   1.0   0.0   1.0   \n",
      "149779  ...    1939.0      A01     0     7       0   0.0   1.0   1.0   1.0   \n",
      "149780  ...    1946.0      A01     0     7       0   0.0   1.0   3.0  15.0   \n",
      "149781  ...    1935.0      A01     0     7       0   0.0   1.0   1.0   1.0   \n",
      "149782  ...    2006.0      A01     0     7       0   0.0   1.0   2.0   1.0   \n",
      "149783  ...    1947.0      A01     0     7       0   1.0   1.0   1.0   1.0   \n",
      "149784  ...    1947.0      A01     0    13       0   0.0   0.0   6.0  24.0   \n",
      "149785  ...    2009.0      A01     0    99       0   0.0   1.0   1.0   1.0   \n",
      "\n",
      "         age  \n",
      "0        4.0  \n",
      "1        9.0  \n",
      "2       16.0  \n",
      "3       22.0  \n",
      "4       53.0  \n",
      "5       68.0  \n",
      "6       19.0  \n",
      "7       76.0  \n",
      "8       55.0  \n",
      "9       22.0  \n",
      "10      12.0  \n",
      "11      52.0  \n",
      "12       8.0  \n",
      "13      12.0  \n",
      "14      84.0  \n",
      "15      51.0  \n",
      "16      49.0  \n",
      "17      56.0  \n",
      "18      68.0  \n",
      "19      55.0  \n",
      "20       9.0  \n",
      "21      11.0  \n",
      "22       3.0  \n",
      "23      57.0  \n",
      "24      80.0  \n",
      "25       6.0  \n",
      "26      42.0  \n",
      "27      53.0  \n",
      "28      45.0  \n",
      "29       6.0  \n",
      "...      ...  \n",
      "149756  64.0  \n",
      "149757  15.0  \n",
      "149758   7.0  \n",
      "149759  50.0  \n",
      "149760  88.0  \n",
      "149761  79.0  \n",
      "149762  16.0  \n",
      "149763  16.0  \n",
      "149764   8.0  \n",
      "149765  13.0  \n",
      "149766  27.0  \n",
      "149767  70.0  \n",
      "149768  85.0  \n",
      "149769  85.0  \n",
      "149770  78.0  \n",
      "149771  31.0  \n",
      "149772  57.0  \n",
      "149773   4.0  \n",
      "149774  24.0  \n",
      "149775   9.0  \n",
      "149776   7.0  \n",
      "149777  36.0  \n",
      "149778  20.0  \n",
      "149779  76.0  \n",
      "149780  69.0  \n",
      "149781  80.0  \n",
      "149782   9.0  \n",
      "149783  68.0  \n",
      "149784  68.0  \n",
      "149785   6.0  \n",
      "\n",
      "[149786 rows x 53 columns]\n"
     ]
    }
   ],
   "source": [
    "pandas_df = df2.toPandas()\n",
    "print(\"\\nPandas DataFrame: \\n\", pandas_df)"
   ]
  },
  {
   "cell_type": "code",
   "execution_count": 15,
   "metadata": {},
   "outputs": [
    {
     "name": "stdout",
     "output_type": "stream",
     "text": [
      "4.0    37436\n",
      "2.0    33995\n",
      "3.0    25087\n",
      "1.0    21738\n",
      "0.0    16504\n",
      "5.0     9978\n",
      "6.0     3453\n",
      "8.0     1388\n",
      "7.0      183\n",
      "Name: locp, dtype: int64\n"
     ]
    }
   ],
   "source": [
    "localisation_pieton = pandas_df[\"locp\"].value_counts()\n",
    "print(localisation_pieton)"
   ]
  },
  {
   "cell_type": "code",
   "execution_count": 16,
   "metadata": {},
   "outputs": [],
   "source": [
    "# Tri des des valeurs et affectation à leur labels respectifs\n",
    "localisation_pieton.rename(inplace=True, index={1:\"A + 50 m du passage pieton\", 2: \"A – 50 m du passage pieton\", 3: \"Sur passage pieton sans signalisation lumineuse\", 4 : \"Sur passage pieton (avec signalisation lumineuse)\", 5 : \"Sur trottoir\", 6 : \"Sur accotement\", 7 : \"Sur refuge ou BAU\", 8 : \"Sur contre allee\", 0:\"Autre\"})\n",
    "loc_pieton = localisation_pieton.sort_values()"
   ]
  },
  {
   "cell_type": "code",
   "execution_count": 17,
   "metadata": {},
   "outputs": [
    {
     "name": "stdout",
     "output_type": "stream",
     "text": [
      "Sur refuge ou BAU                                      183\n",
      "Sur contre allee                                      1388\n",
      "Sur accotement                                        3453\n",
      "Sur trottoir                                          9978\n",
      "Autre                                                16504\n",
      "A + 50 m du passage pieton                           21738\n",
      "Sur passage pieton sans signalisation lumineuse      25087\n",
      "A – 50 m du passage pieton                           33995\n",
      "Sur passage pieton (avec signalisation lumineuse)    37436\n",
      "Name: locp, dtype: int64\n"
     ]
    }
   ],
   "source": [
    "print(loc_pieton)"
   ]
  },
  {
   "cell_type": "code",
   "execution_count": 18,
   "metadata": {},
   "outputs": [
    {
     "data": {
      "text/plain": [
       "([<matplotlib.axis.YTick at 0x7f5d040bb400>,\n",
       "  <matplotlib.axis.YTick at 0x7f5d041e17b8>,\n",
       "  <matplotlib.axis.YTick at 0x7f5d041df2b0>,\n",
       "  <matplotlib.axis.YTick at 0x7f5cfc5dc2b0>,\n",
       "  <matplotlib.axis.YTick at 0x7f5cfc5dcb70>,\n",
       "  <matplotlib.axis.YTick at 0x7f5d041d1eb8>,\n",
       "  <matplotlib.axis.YTick at 0x7f5cfc77df98>,\n",
       "  <matplotlib.axis.YTick at 0x7f5cfc77da58>,\n",
       "  <matplotlib.axis.YTick at 0x7f5cfa3b5748>],\n",
       " <a list of 9 Text yticklabel objects>)"
      ]
     },
     "execution_count": 18,
     "metadata": {},
     "output_type": "execute_result"
    },
    {
     "data": {
      "image/png": "[encoded data removed]",
      "text/plain": [
       "<Figure size 432x288 with 1 Axes>"
      ]
     },
     "metadata": {},
     "output_type": "display_data"
    }
   ],
   "source": [
    "plt.barh(range(len(loc_pieton.index)), list(map(float, loc_pieton)))\n",
    "plt.yticks(range(len(loc_pieton.index)), loc_pieton.index)"
   ]
  },
  {
   "cell_type": "markdown",
   "metadata": {},
   "source": [
    "## Étude de la largeur de la route (variable continue)"
   ]
  },
  {
   "cell_type": "code",
   "execution_count": 19,
   "metadata": {},
   "outputs": [
    {
     "data": {
      "text/plain": [
       "[Row(max(larrout)=999, avg(larrout)=63.69590090927777, min(larrout)=-81)]"
      ]
     },
     "execution_count": 19,
     "metadata": {},
     "output_type": "execute_result"
    }
   ],
   "source": [
    "# Min = 0 (cela veut dire que zero est la valeur par défaut quand il n'y a pas d'information. La moyenne n'a donc pas de sens. Il faut regarder la médiane)\n",
    "df.agg(F.max(df.larrout), F.avg(df.larrout), F.min(df.larrout)).collect()"
   ]
  },
  {
   "cell_type": "code",
   "execution_count": 20,
   "metadata": {},
   "outputs": [
    {
     "data": {
      "text/plain": [
       "[61.0]"
      ]
     },
     "execution_count": 20,
     "metadata": {},
     "output_type": "execute_result"
    }
   ],
   "source": [
    "# On calcule la médiane\n",
    "df.approxQuantile(\"larrout\", [0.5], 0)"
   ]
  },
  {
   "cell_type": "code",
   "execution_count": 21,
   "metadata": {},
   "outputs": [
    {
     "name": "stdout",
     "output_type": "stream",
     "text": [
      "il y a 28.03 % de routes qui ont une largeur égale à zéro d'après cette base de donnée. On peut supposer qu'il s'agit de la valeur par défaut quand il n'y a pas d'information\n"
     ]
    }
   ],
   "source": [
    "# Combien de routes ont des largeur à zéro ?\n",
    "\n",
    "total_rows = df.count()\n",
    "no_route_total_rows = df.filter(df.larrout == 0).count()\n",
    "rapport = round((no_route_total_rows / total_rows)*100, 2)\n",
    "print(\"il y a {} % de routes qui ont une largeur égale à zéro d'après cette base de donnée. On peut supposer qu'il s'agit de la valeur par défaut quand il n'y a pas d'information\".format(rapport))"
   ]
  },
  {
   "cell_type": "code",
   "execution_count": 22,
   "metadata": {},
   "outputs": [
    {
     "name": "stdout",
     "output_type": "stream",
     "text": [
      "La largeur de route maximale est de 999 cm soit 9.99 m\n"
     ]
    }
   ],
   "source": [
    "max_larrout_cm = df.agg({\"larrout\": \"max\"}).collect()[0][0]\n",
    "max_larrout_m = max_larrout_cm/100\n",
    "print(\"La largeur de route maximale est de {} cm soit {} m\".format(max_larrout_cm, max_larrout_m))"
   ]
  },
  {
   "cell_type": "markdown",
   "metadata": {},
   "source": [
    "## Localisation des accidents"
   ]
  },
  {
   "cell_type": "code",
   "execution_count": 23,
   "metadata": {},
   "outputs": [],
   "source": [
    "%%capture\n",
    "#On définit une fonction qui va nous permettre d'afficher la carte de France et d'y ajouter des points\n",
    "def carte_france():\n",
    "    fig, axes = plt.subplots(1, 1, figsize=(15,15))\n",
    "\n",
    "    m = Basemap(llcrnrlon=-5,llcrnrlat=40,urcrnrlon=10,urcrnrlat=52,\n",
    "                resolution='i',projection='cass',lon_0=2.34,lat_0=48,\n",
    "               ax=axes)\n",
    "    m.drawcoastlines()\n",
    "    m.drawcountries()\n",
    "    m.fillcontinents(color='grey', lake_color='#FFFFFF')\n",
    "\n",
    "    m.drawparallels(numpy.arange(-40,61.,2.))\n",
    "    m.drawmeridians(numpy.arange(-20.,21.,2.))\n",
    "    m.drawmapboundary(fill_color='#FFFFFF')\n",
    "    return m, axes\n",
    "\n",
    "m, ax = carte_france()"
   ]
  },
  {
   "cell_type": "code",
   "execution_count": 24,
   "metadata": {},
   "outputs": [
    {
     "name": "stdout",
     "output_type": "stream",
     "text": [
      "+------------+---+--------------------+---+-------+-------+----+\n",
      "|     Num_Acc|com|                 adr|gps|    lat|   long|grav|\n",
      "+------------+---+--------------------+---+-------+-------+----+\n",
      "|200500000700|246|                null|  M|4310800|0083300|   4|\n",
      "|200500001181|258|                null|  M|4864800|0357400|   4|\n",
      "|200500001363| 66|                null|  M|4387300|0491500|   4|\n",
      "|200500010575|253|                null|  M|4959000|0214000|   4|\n",
      "|200500010716|578|                null|  M|4933300|0024400|   1|\n",
      "|200500011508|  4|                null|  M|4354800|0473200|   3|\n",
      "|200500011600| 39|                null|  M|4345400|0364600|   1|\n",
      "|200500011664| 20|                null|  M|4890200|0172200|   1|\n",
      "|200500012125|318|                null|  M|5000300|0210200|   1|\n",
      "|200500012201|377|                null|  M|4951900|0114100|   4|\n",
      "|200500012433|273|  Chemin de la Roche|  M|4710300|-118600|   3|\n",
      "|200500012706|110|                null|  M|4593000|0104300|   1|\n",
      "|200500013374| 84|                null|  M|4456000|0621000|   4|\n",
      "|200500013552|361|214 bld marechal ...|  M|4899900|0169700|   1|\n",
      "|200500013585|580|                null|  M|4910300|0255000|   4|\n",
      "|200500013852|288|                null|  M|4567700|0505300|   1|\n",
      "|200500022838|616|rue Pierre  Eug�n...|  M|4935400|0177500|   4|\n",
      "|200500023632|313|                null|  M|4573500|0401900|   3|\n",
      "|200500023859|154|   rue de wittenheim|  M|4782400|0735800|   1|\n",
      "|200500024223|109|                null|  M|4407000|0424300|   3|\n",
      "+------------+---+--------------------+---+-------+-------+----+\n",
      "only showing top 20 rows\n",
      "\n",
      "Nombre de lignes dans le dataframe : 249994\n"
     ]
    }
   ],
   "source": [
    "# On retient les accidents qui ont des coordonnées GPS non nulles pour les afficher\n",
    "#On retire également les lignes qui pourraient apparaitre plusieurs fois (à cause de Num_Acc)\n",
    "accident_gps = df.filter((df.lat != \"0000000\") & df.long.isNotNull()).dropDuplicates(['Num_Acc'])\n",
    "accident_gps.select([\"Num_Acc\",\"com\",\"adr\",\"gps\",\"lat\",\"long\",\"grav\"]).show()\n",
    "print('Nombre de lignes dans le dataframe :', accident_gps.count())"
   ]
  },
  {
   "cell_type": "code",
   "execution_count": 25,
   "metadata": {},
   "outputs": [],
   "source": [
    "#On crée une fonction qui va transformer les positions GPS en position sur notre carte\n",
    "schema = StructType([\n",
    "    StructField(\"x\", FloatType(), False),\n",
    "    StructField(\"y\", FloatType(), False)\n",
    "])\n",
    "\n",
    "def gps_to_position(lat, long):\n",
    "    new_lat = int(lat)/100000\n",
    "    new_long = int(long)/100000\n",
    "    x,y = m(new_long,new_lat)\n",
    "    return [x, y]\n",
    "\n",
    "udf_gps_to_position = udf(gps_to_position, schema)"
   ]
  },
  {
   "cell_type": "code",
   "execution_count": 26,
   "metadata": {},
   "outputs": [
    {
     "name": "stdout",
     "output_type": "stream",
     "text": [
      "+------------+-------+-------+--------------------+----+\n",
      "|     Num_Acc|    lat|   long|            position|grav|\n",
      "+------------+-------+-------+--------------------+----+\n",
      "|200500000700|4310800|0083300|[502182.5, 320862.2]|   4|\n",
      "|200500001181|4864800|0357400|[715165.06, 93651...|   4|\n",
      "|200500001363|4387300|0491500|[830886.94, 40804...|   4|\n",
      "|200500010575|4959000|0214000|[610097.25, 10405...|   4|\n",
      "|200500010716|4933300|0024400|[472654.03, 10140...|   1|\n",
      "|200500011508|4354800|0473200|[817267.4, 371461...|   3|\n",
      "|200500011600|4345400|0364600|[729928.8, 359062.4]|   1|\n",
      "|200500011664|4890200|0172200|[579342.2, 964209...|   1|\n",
      "|200500012125|5000300|0210200|[607503.8, 108647...|   1|\n",
      "|200500012201|4951900|0114100|[537964.9, 103332...|   4|\n",
      "|200500012433|4710300|-118600|[357726.84, 77000...|   3|\n",
      "|200500012706|4593000|0104300|[524208.0, 634370.3]|   1|\n",
      "|200500013374|4456000|0621000|[931011.7, 488488.8]|   4|\n",
      "|200500013552|4899900|0169700|[577606.2, 975010...|   1|\n",
      "|200500013585|4910300|0255000|[639801.56, 98639...|   4|\n",
      "|200500013852|4567700|0505300|[835252.1, 608993.6]|   1|\n",
      "|200500022838|4935400|0177500|[583590.9, 101443...|   4|\n",
      "|200500023632|4573500|0401900|[754814.0, 613239.0]|   3|\n",
      "|200500023859|4782400|0735800|[998881.06, 85632...|   1|\n",
      "|200500024223|4407000|0424300|[776535.56, 42848...|   3|\n",
      "+------------+-------+-------+--------------------+----+\n",
      "only showing top 20 rows\n",
      "\n"
     ]
    }
   ],
   "source": [
    "draw_accidents = accident_gps.select('Num_Acc', \n",
    "                                     'lat',\n",
    "                                     'long', \n",
    "                                     udf_gps_to_position('lat','long').alias('position'), \n",
    "                                     'grav')\n",
    "draw_accidents.show()"
   ]
  },
  {
   "cell_type": "code",
   "execution_count": 27,
   "metadata": {},
   "outputs": [
    {
     "data": {
      "text/plain": [
       "[('Num_Acc', 'bigint'),\n",
       " ('lat', 'string'),\n",
       " ('long', 'string'),\n",
       " ('position', 'struct<x:float,y:float>'),\n",
       " ('grav', 'int')]"
      ]
     },
     "execution_count": 27,
     "metadata": {},
     "output_type": "execute_result"
    }
   ],
   "source": [
    "#Les nouveaux types de la colonnes position sont bien ceux qu'on a proposé dans l'udf\n",
    "draw_accidents.dtypes"
   ]
  },
  {
   "cell_type": "code",
   "execution_count": 28,
   "metadata": {
    "scrolled": true
   },
   "outputs": [
    {
     "data": {
      "text/plain": [
       "[Row(Num_Acc=200500000700, lat='4310800', long='0083300', position=Row(x=502182.5, y=320862.1875), grav=4),\n",
       " Row(Num_Acc=200500001181, lat='4864800', long='0357400', position=Row(x=715165.0625, y=936515.0625), grav=4),\n",
       " Row(Num_Acc=200500001363, lat='4387300', long='0491500', position=Row(x=830886.9375, y=408042.34375), grav=4),\n",
       " Row(Num_Acc=200500010575, lat='4959000', long='0214000', position=Row(x=610097.25, y=1040546.9375), grav=4),\n",
       " Row(Num_Acc=200500010716, lat='4933300', long='0024400', position=Row(x=472654.03125, y=1014058.1875), grav=1),\n",
       " Row(Num_Acc=200500011508, lat='4354800', long='0473200', position=Row(x=817267.375, y=371461.65625), grav=3),\n",
       " Row(Num_Acc=200500011600, lat='4345400', long='0364600', position=Row(x=729928.8125, y=359062.40625), grav=1),\n",
       " Row(Num_Acc=200500011664, lat='4890200', long='0172200', position=Row(x=579342.1875, y=964209.25), grav=1),\n",
       " Row(Num_Acc=200500012125, lat='5000300', long='0210200', position=Row(x=607503.8125, y=1086478.25), grav=1),\n",
       " Row(Num_Acc=200500012201, lat='4951900', long='0114100', position=Row(x=537964.875, y=1033321.8125), grav=4),\n",
       " Row(Num_Acc=200500012433, lat='4710300', long='-118600', position=Row(x=357726.84375, y=770005.3125), grav=3),\n",
       " Row(Num_Acc=200500012706, lat='4593000', long='0104300', position=Row(x=524208.0, y=634370.3125), grav=1),\n",
       " Row(Num_Acc=200500013374, lat='4456000', long='0621000', position=Row(x=931011.6875, y=488488.8125), grav=4),\n",
       " Row(Num_Acc=200500013552, lat='4899900', long='0169700', position=Row(x=577606.1875, y=975010.25), grav=1),\n",
       " Row(Num_Acc=200500013585, lat='4910300', long='0255000', position=Row(x=639801.5625, y=986397.0), grav=4),\n",
       " Row(Num_Acc=200500013852, lat='4567700', long='0505300', position=Row(x=835252.125, y=608993.625), grav=1),\n",
       " Row(Num_Acc=200500022838, lat='4935400', long='0177500', position=Row(x=583590.875, y=1014438.875), grav=4),\n",
       " Row(Num_Acc=200500023632, lat='4573500', long='0401900', position=Row(x=754814.0, y=613239.0), grav=3),\n",
       " Row(Num_Acc=200500023859, lat='4782400', long='0735800', position=Row(x=998881.0625, y=856328.5), grav=1),\n",
       " Row(Num_Acc=200500024223, lat='4407000', long='0424300', position=Row(x=776535.5625, y=428488.5), grav=3),\n",
       " Row(Num_Acc=200500025091, lat='4747500', long='-030600', position=Row(x=425684.21875, y=808735.875), grav=3),\n",
       " Row(Num_Acc=200500025223, lat='4505200', long='-012800', position=Row(x=430669.375, y=538881.5625), grav=3),\n",
       " Row(Num_Acc=200500025345, lat='4602900', long='0024200', position=Row(x=462562.75, y=646697.4375), grav=2),\n",
       " Row(Num_Acc=200500025790, lat='4634500', long='0661500', position=Row(x=952500.6875, y=688565.1875), grav=1),\n",
       " Row(Num_Acc=200500025888, lat='4905800', long='0733800', position=Row(x=988431.1875, y=993382.4375), grav=1),\n",
       " Row(Num_Acc=200500025900, lat='4857800', long='0618600', position=Row(x=907330.9375, y=935123.625), grav=1),\n",
       " Row(Num_Acc=200500026179, lat='4741400', long='0658800', position=Row(x=943996.1875, y=807298.9375), grav=1),\n",
       " Row(Num_Acc=200500026636, lat='4816600', long='0233700', position=Row(x=624291.1875, y=882186.25), grav=3),\n",
       " Row(Num_Acc=200500037698, lat='4951400', long='0385700', position=Row(x=734025.5625, y=1033179.75), grav=3),\n",
       " Row(Num_Acc=200500038100, lat='4759200', long='-066300', position=Row(x=399373.65625, y=822719.5625), grav=4),\n",
       " Row(Num_Acc=200500039779, lat='4831000', long='0293000', position=Row(x=668147.125, y=898366.0625), grav=4),\n",
       " Row(Num_Acc=200500041603, lat='4605300', long='0444300', position=Row(x=786780.0, y=649376.25), grav=3),\n",
       " Row(Num_Acc=200500041604, lat='4604900', long='0448900', position=Row(x=790340.5, y=649026.375), grav=3),\n",
       " Row(Num_Acc=200500042015, lat='4809100', long='0604600', position=Row(x=899661.4375, y=880475.4375), grav=1),\n",
       " Row(Num_Acc=200500042784, lat='4824100', long='0282500', position=Row(x=660430.4375, y=890639.25), grav=1),\n",
       " Row(Num_Acc=200500048722, lat='4392200', long='-007000', position=Row(x=431519.4375, y=413092.0625), grav=3),\n",
       " Row(Num_Acc=200500049128, lat='4854300', long='0714000', position=Row(x=977645.0, y=935210.4375), grav=2),\n",
       " Row(Num_Acc=200500049473, lat='4345100', long='0541600', position=Row(x=872762.25, y=362488.75), grav=4),\n",
       " Row(Num_Acc=200500049506, lat='4369900', long='0603600', position=Row(x=921542.5625, y=392104.5625), grav=3),\n",
       " Row(Num_Acc=200500049756, lat='4258700', long='0290400', position=Row(x=670686.5, y=261983.84375), grav=1),\n",
       " Row(Num_Acc=200500049765, lat='4255500', long='0295800', position=Row(x=675133.1875, y=258456.4375), grav=1),\n",
       " Row(Num_Acc=200500054433, lat='4724700', long='-027700', position=Row(x=427010.59375, y=783311.8125), grav=3),\n",
       " Row(Num_Acc=200500054602, lat='4429000', long='0079100', position=Row(x=501228.5, y=452358.84375), grav=2),\n",
       " Row(Num_Acc=200500055135, lat='4537900', long='0329000', position=Row(x=698711.5625, y=572724.0), grav=3),\n",
       " Row(Num_Acc=200500055411, lat='4706100', long='0393600', position=Row(x=745399.3125, y=760548.6875), grav=1),\n",
       " Row(Num_Acc=200500055430, lat='4644400', long='0424300', position=Row(x=770308.0625, y=692463.75), grav=1),\n",
       " Row(Num_Acc=200500055577, lat='4362600', long='0655400', position=Row(x=963550.3125, y=385975.65625), grav=3),\n",
       " Row(Num_Acc=200500055977, lat='4836700', long='-429600', position=Row(x=134905.484375, y=925793.6875), grav=3),\n",
       " Row(Num_Acc=200500056029, lat='4739700', long='0503700', position=Row(x=827474.6875, y=800195.3125), grav=3),\n",
       " Row(Num_Acc=200500062455, lat='5003000', long='0323000', position=Row(x=688085.0, y=1089831.875), grav=2),\n",
       " Row(Num_Acc=200500062586, lat='4986200', long='0120100', position=Row(x=542873.75, y=1071393.125), grav=4),\n",
       " Row(Num_Acc=200500063087, lat='4672900', long='0030100', position=Row(x=469121.5625, y=724413.0625), grav=1),\n",
       " Row(Num_Acc=200500063844, lat='4726900', long='0521500', position=Row(x=841389.3125, y=786443.6875), grav=3),\n",
       " Row(Num_Acc=200500064344, lat='4711200', long='0230000', position=Row(x=621486.6875, y=764987.625), grav=3),\n",
       " Row(Num_Acc=200500070352, lat='4971500', long='0348200', position=Row(x=706617.5, y=1055051.375), grav=3),\n",
       " Row(Num_Acc=200500070791, lat='4524400', long='-057000', position=Row(x=396736.03125, y=561385.0), grav=3),\n",
       " Row(Num_Acc=200500072193, lat='4362600', long='0702400', position=Row(x=1001325.875, y=388006.75), grav=3),\n",
       " Row(Num_Acc=200500078173, lat='4543700', long='-104700', position=Row(x=360322.3125, y=584303.8125), grav=3),\n",
       " Row(Num_Acc=200500078262, lat='4688300', long='0005100', position=Row(x=450572.9375, y=742060.4375), grav=3),\n",
       " Row(Num_Acc=200500079116, lat='4389200', long='0509800', position=Row(x=845477.6875, y=410628.65625), grav=4),\n",
       " Row(Num_Acc=200500079192, lat='4370800', long='0419400', position=Row(x=773524.9375, y=388145.84375), grav=3),\n",
       " Row(Num_Acc=200500079211, lat='4397500', long='0357600', position=Row(x=723415.4375, y=416909.3125), grav=4),\n",
       " Row(Num_Acc=200500079662, lat='4370100', long='0136100', position=Row(x=545814.8125, y=386165.6875), grav=3),\n",
       " Row(Num_Acc=200600004407, lat='5055700', long='291700', position=Row(x=665274.4375, y=1148211.75), grav=1),\n",
       " Row(Num_Acc=200600004805, lat='4519900', long='56300', position=Row(x=485291.5, y=553803.3125), grav=1),\n",
       " Row(Num_Acc=200600005043, lat='4611500', long='473600', position=Row(x=809173.625, y=656909.5625), grav=1),\n",
       " Row(Num_Acc=200600006351, lat='4637200', long='-87300', position=Row(x=378075.25, y=687708.0), grav=1),\n",
       " Row(Num_Acc=200600016771, lat='4693500', long='163400', position=Row(x=570910.0, y=745546.625), grav=4),\n",
       " Row(Num_Acc=200600017303, lat='4901300', long='-87900', position=Row(x=389818.0625, y=981348.5625), grav=1),\n",
       " Row(Num_Acc=200600017515, lat='4421900', long='-129500', position=Row(x=334931.25, y=449712.96875), grav=1),\n",
       " Row(Num_Acc=200600017662, lat='4351100', long='137100', position=Row(x=546372.1875, y=365029.09375), grav=3),\n",
       " Row(Num_Acc=200600018071, lat='4882100', long='753400', position=Row(x=1004482.5625, y=968005.875), grav=3),\n",
       " Row(Num_Acc=200600018571, lat='4784900', long='222900', position=Row(x=616230.75, y=846943.4375), grav=1),\n",
       " Row(Num_Acc=200600023407, lat='4918200', long='349500', position=Row(x=708459.875, y=995800.625), grav=1),\n",
       " Row(Num_Acc=200600023521, lat='4859100', long='-160900', position=Row(x=334203.71875, y=936955.6875), grav=1),\n",
       " Row(Num_Acc=200600030174, lat='4893700', long='94500', position=Row(x=522624.96875, y=968852.8125), grav=3),\n",
       " Row(Num_Acc=200600032082, lat='4775100', long='153600', position=Row(x=564405.875, y=836352.5625), grav=4),\n",
       " Row(Num_Acc=200600042704, lat='4751400', long='-155700', position=Row(x=331963.5, y=817032.0), grav=3),\n",
       " Row(Num_Acc=200600043632, lat='4820700', long='596700', position=Row(x=893192.1875, y=893091.4375), grav=1),\n",
       " Row(Num_Acc=200600043654, lat='4854700', long='748900', position=Row(x=1003253.0, y=937330.1875), grav=3),\n",
       " Row(Num_Acc=200600043817, lat='4633000', long='455000', position=Row(x=794176.5625, y=680400.125), grav=1),\n",
       " Row(Num_Acc=200600044748, lat='4735400', long='292500', position=Row(x=668581.8125, y=792061.5), grav=1),\n",
       " Row(Num_Acc=200600045567, lat='4345200', long='160100', position=Row(x=564860.9375, y=358278.1875), grav=1),\n",
       " Row(Num_Acc=200600045918, lat='4535700', long='242200', position=Row(x=630920.8125, y=569843.125), grav=3),\n",
       " Row(Num_Acc=200600046009, lat='4809900', long='649600', position=Row(x=932992.375, y=883073.5), grav=2),\n",
       " Row(Num_Acc=200600046211, lat='4716100', long='626800', position=Row(x=921368.5625, y=777905.25), grav=2),\n",
       " Row(Num_Acc=200600046490, lat='4370400', long='427300', position=Row(x=779883.625, y=387846.09375), grav=3),\n",
       " Row(Num_Acc=200600046830, lat='4516900', long='569900', position=Row(x=887764.5625, y=554412.4375), grav=1),\n",
       " Row(Num_Acc=200600050740, lat='5028300', long='252900', position=Row(x=637942.75, y=1117602.875), grav=1),\n",
       " Row(Num_Acc=200600050992, lat='4900500', long='-30400', position=Row(x=431691.21875, y=978838.375), grav=3),\n",
       " Row(Num_Acc=200600051027, lat='4856700', long='-151700', position=Row(x=340826.5, y=933941.6875), grav=1),\n",
       " Row(Num_Acc=200600051247, lat='4488400', long='137500', position=Row(x=548487.3125, y=517696.5), grav=3),\n",
       " Row(Num_Acc=200600052022, lat='4950300', long='414100', position=Row(x=754553.0625, y=1032408.3125), grav=1),\n",
       " Row(Num_Acc=200600059096, lat='4550200', long='573100', position=Row(x=888711.875, y=591544.4375), grav=3),\n",
       " Row(Num_Acc=200600059948, lat='4725000', long='75700', position=Row(x=505038.375, y=781543.9375), grav=3),\n",
       " Row(Num_Acc=200600060172, lat='4807100', long='18200', position=Row(x=464192.1875, y=873869.6875), grav=2),\n",
       " Row(Num_Acc=200600071164, lat='5073500', long='265000', position=Row(x=646330.25, y=1167891.625), grav=1),\n",
       " Row(Num_Acc=200600071376, lat='4860900', long='-175800', position=Row(x=323367.75, y=939534.5), grav=4),\n",
       " Row(Num_Acc=200600071558, lat='4755000', long='-49000', position=Row(x=412167.5625, y=817561.9375), grav=3),\n",
       " Row(Num_Acc=200600072365, lat='4678200', long='472800', position=Row(x=806316.625, y=731054.6875), grav=1)]"
      ]
     },
     "execution_count": 28,
     "metadata": {},
     "output_type": "execute_result"
    }
   ],
   "source": [
    "#pour des soucis de performances on ne garde que les 100 premières lignes du dataframe \n",
    "list_accidents_positions = draw_accidents.take(100)\n",
    "list_accidents_positions"
   ]
  },
  {
   "cell_type": "code",
   "execution_count": 29,
   "metadata": {},
   "outputs": [
    {
     "name": "stderr",
     "output_type": "stream",
     "text": [
      "/opt/conda/lib/python3.6/site-packages/mpl_toolkits/basemap/__init__.py:1708: MatplotlibDeprecationWarning: The axesPatch function was deprecated in version 2.1. Use Axes.patch instead.\n",
      "  limb = ax.axesPatch\n",
      "/opt/conda/lib/python3.6/site-packages/mpl_toolkits/basemap/__init__.py:1711: MatplotlibDeprecationWarning: The axesPatch function was deprecated in version 2.1. Use Axes.patch instead.\n",
      "  if limb is not ax.axesPatch:\n"
     ]
    },
    {
     "data": {
      "image/png": "[encoded data removed]",
      "text/plain": [
       "<Figure size 1080x1080 with 1 Axes>"
      ]
     },
     "metadata": {},
     "output_type": "display_data"
    }
   ],
   "source": [
    "#On affiche les résultats\n",
    "m, ax = carte_france()\n",
    "colors = [\n",
    "    '', \n",
    "    'wo', #blanc : indemne\n",
    "    'yo', #jaune : bléssure(s) légère(s)\n",
    "    'ro', #rouge : hospitalisation\n",
    "    'ko' #noir : mort\n",
    "]\n",
    "\n",
    "for element in list_accidents_positions:\n",
    "    m.plot(element['position']['x'], element['position']['y'], colors[element['grav']], markersize=5)\n",
    "    ax.text(element['position']['x'], element['position']['y'], element['Num_Acc'])"
   ]
  },
  {
   "cell_type": "markdown",
   "metadata": {},
   "source": [
    "## Étude de la corrélation entre Météo et État de la surface et moi de l'année"
   ]
  },
  {
   "cell_type": "code",
   "execution_count": 30,
   "metadata": {
    "scrolled": false
   },
   "outputs": [
    {
     "name": "stdout",
     "output_type": "stream",
     "text": [
      "pValues: [0.0]\n",
      "degreesOfFreedom: [81]\n",
      "statistics: [3897366.4390521045]\n"
     ]
    }
   ],
   "source": [
    "# Les variables sont ici catégorielles, effectuons un test du chi²\n",
    "# Il faut pour cela que la colonne surf soit au format vecteur\n",
    "\n",
    "pip = []\n",
    "assembler_features = VectorAssembler(inputCols=[\"surf\"], outputCol='surf_vect')\n",
    "pip+= [assembler_features]\n",
    "\n",
    "myPipeline= Pipeline(stages=pip)\n",
    "df_in = df.filter(df.surf.isNotNull())\n",
    "df_out = myPipeline.fit(df_in).transform(df_in)\n",
    "\n",
    "r = ChiSquareTest.test(df_out, \"surf_vect\", \"atm\").head()\n",
    "print(\"pValues: \" + str(r.pValues))\n",
    "print(\"degreesOfFreedom: \" + str(r.degreesOfFreedom))\n",
    "print(\"statistics: \" + str(r.statistics))"
   ]
  },
  {
   "cell_type": "markdown",
   "metadata": {},
   "source": [
    "On constate que les résultats sont aberrants. En testant la corrélation entre d'autres colonnes, on obtient la même pValues... Sans doute une mauvaise utilisation de la fonction!"
   ]
  },
  {
   "cell_type": "markdown",
   "metadata": {},
   "source": [
    "# III.  Prédictions (Pipelines)"
   ]
  },
  {
   "cell_type": "markdown",
   "metadata": {},
   "source": [
    "## III.1 Préparation des données"
   ]
  },
  {
   "cell_type": "code",
   "execution_count": 31,
   "metadata": {},
   "outputs": [],
   "source": [
    "pip_preparation = []\n",
    "features_a_assembler = []"
   ]
  },
  {
   "cell_type": "markdown",
   "metadata": {},
   "source": [
    "### III.1.1 À la recherche de null"
   ]
  },
  {
   "cell_type": "code",
   "execution_count": 32,
   "metadata": {},
   "outputs": [],
   "source": [
    "col_null = []\n",
    "\n",
    "for col in df.columns:\n",
    "    filtered_df = df.filter(df[col].isNull())\n",
    "    nb_null = filtered_df.count()\n",
    "    \n",
    "    if nb_null > 0:\n",
    "        col_null.append((col, nb_null, nb_null/df.count()))"
   ]
  },
  {
   "cell_type": "code",
   "execution_count": 33,
   "metadata": {},
   "outputs": [
    {
     "name": "stdout",
     "output_type": "stream",
     "text": [
      "Au dessus du seuil :  voie 0.052929756816685825\n",
      "Au dessus du seuil :  v1 0.5684556327710522\n",
      "Au dessus du seuil :  v2 0.9544527996262918\n",
      "Au dessus du seuil :  pr 0.4580727942269367\n",
      "Au dessus du seuil :  pr1 0.459647100576639\n",
      "Au dessus du seuil :  adr 0.18762395008326532\n",
      "Au dessus du seuil :  gps 0.5763732713721945\n",
      "Au dessus du seuil :  lat 0.5808662628272601\n",
      "Au dessus du seuil :  long 0.5808741495257365\n",
      "\n",
      "elem_a_dropper : \n",
      " ['voie', 'v1', 'v2', 'pr', 'pr1', 'adr', 'gps', 'lat', 'long']\n",
      "\n",
      "elem_a_filtrer : \n",
      " ['catr', 'circ', 'nbv', 'vosp', 'prof', 'plan', 'lartpc', 'larrout', 'surf', 'infra', 'situ', 'env1', 'atm', 'col', 'com', 'dep', 'place', 'trajet', 'secu', 'locp', 'actp', 'etatp', 'an_nais', 'obs', 'obsm', 'choc', 'manv', 'age']\n",
      "\n",
      "On va dropper ces colonnes car elles ont beaucoup de valeurs manquantes et par ailleurs elles n'ont pas l'air d'être des colonnes importantes pour la prédiction de la gravité de l'accident\n"
     ]
    }
   ],
   "source": [
    "count = 0\n",
    "elem_a_dropper = []\n",
    "elem_a_filtrer = []\n",
    "\n",
    "for elem in col_null:\n",
    "    \n",
    "    if elem[2] > 0.05:\n",
    "        elem_a_dropper.append(elem[0])\n",
    "        print(\"Au dessus du seuil : \", elem[0], elem[2])\n",
    "        count += 1\n",
    "    \n",
    "    else:\n",
    "        elem_a_filtrer.append(elem[0])\n",
    "\n",
    "print(\"\\nelem_a_dropper : \\n\", elem_a_dropper)\n",
    "print(\"\\nelem_a_filtrer : \\n\", elem_a_filtrer)\n",
    "print(\"\\nOn va dropper ces colonnes car elles ont beaucoup de valeurs manquantes et par ailleurs elles n'ont pas l'air d'être des colonnes importantes pour la prédiction de la gravité de l'accident\")"
   ]
  },
  {
   "cell_type": "code",
   "execution_count": 34,
   "metadata": {},
   "outputs": [],
   "source": [
    "elem_a_dropper = [\"voie\", \"v1\", \"v2\", \"pr\", \"pr1\", \"adr\", \"gps\", \"lat\", \"long\"]\n",
    "\n",
    "# Suppression des colonnes possèdant trop de null\n",
    "for elem in elem_a_dropper:\n",
    "    df = df.drop(elem)"
   ]
  },
  {
   "cell_type": "code",
   "execution_count": 35,
   "metadata": {},
   "outputs": [
    {
     "name": "stdout",
     "output_type": "stream",
     "text": [
      "voie a bien été supprimé !\n",
      "v1 a bien été supprimé !\n",
      "v2 a bien été supprimé !\n",
      "pr a bien été supprimé !\n",
      "pr1 a bien été supprimé !\n",
      "adr a bien été supprimé !\n",
      "gps a bien été supprimé !\n",
      "lat a bien été supprimé !\n",
      "long a bien été supprimé !\n"
     ]
    }
   ],
   "source": [
    "# Verification que les colonnes ont bien été supprimé\n",
    "for elem in elem_a_dropper:\n",
    "    \n",
    "    if elem in df.columns:\n",
    "        print(\"La colonne {} n'a pas été supprimée !\".format(elem))\n",
    "    \n",
    "    else:\n",
    "        print(elem, \"a bien été supprimé !\")\n",
    "    \n",
    "all_col = set(df.columns)"
   ]
  },
  {
   "cell_type": "code",
   "execution_count": 36,
   "metadata": {},
   "outputs": [],
   "source": [
    "# filtrage des lignes contenant des null\n",
    "\n",
    "elem_a_filtrer = ['catr', 'circ', 'nbv', 'vosp', 'prof', 'plan', 'lartpc', 'larrout', 'surf', 'infra', 'situ', 'env1', 'atm', 'col', 'com', 'dep', 'place', 'trajet', 'secu', 'locp', 'actp', 'etatp', 'an_nais', 'obs', 'obsm', 'choc', 'manv', 'age']\n",
    "for elem in elem_a_filtrer:\n",
    "    df = df.filter(df[elem].isNotNull())"
   ]
  },
  {
   "cell_type": "markdown",
   "metadata": {},
   "source": [
    "### III.1.2 StandardScaler"
   ]
  },
  {
   "cell_type": "code",
   "execution_count": 38,
   "metadata": {},
   "outputs": [
    {
     "name": "stdout",
     "output_type": "stream",
     "text": [
      "Variables numériques potentielles (avec suffisament de valeurs distinctes) : \n",
      "\n",
      "Num_Acc 764245\n",
      "lartpc 364\n",
      "larrout 531\n",
      "hrmn 1439\n",
      "com 922\n",
      "dep 122\n",
      "an_nais 120\n",
      "num_veh 113\n",
      "occutc 114\n",
      "age 110\n",
      "\n",
      "Parmi ces variables on voit que les variables suivantes ne peuvent pas être numériques : les communes (com), les départements (dep), les années de naissance (an_nais), ainsi que les numéros de voies (voie)\n",
      "\n",
      "Parmi ces variables on va supprimer les variables Num_Acc (car inutile pour la prédiction) et an_nais (car un peu redondant avec age mais moins predictif)\n",
      "\n",
      "D'autre part il faut convertir les heures-minutes en heures pour que les chiffres aient du sens en variables numériques.\n"
     ]
    }
   ],
   "source": [
    "#  Lister les variables numériques\n",
    "\n",
    "print(\"Variables numériques potentielles (avec suffisament de valeurs distinctes) : \\n\")\n",
    "\n",
    "for col in df.columns:\n",
    "    denombrement = df.select([col]).distinct().count()\n",
    "    \n",
    "    if denombrement > 100:\n",
    "        print(col, denombrement)\n",
    "\n",
    "print(\"\\nParmi ces variables on voit que les variables suivantes ne peuvent pas être numériques : les communes (com), les départements (dep), les années de naissance (an_nais), ainsi que les numéros de voies (voie)\")\n",
    "print(\"\\nParmi ces variables on va supprimer les variables Num_Acc (car inutile pour la prédiction) et an_nais (car un peu redondant avec age mais moins predictif)\")\n",
    "print(\"\\nD'autre part il faut convertir les heures-minutes en heures pour que les chiffres aient du sens en variables numériques.\")"
   ]
  },
  {
   "cell_type": "code",
   "execution_count": 39,
   "metadata": {
    "scrolled": true
   },
   "outputs": [
    {
     "name": "stdout",
     "output_type": "stream",
     "text": [
      "+----+\n",
      "|hrmn|\n",
      "+----+\n",
      "|1730|\n",
      "|1730|\n",
      "|1930|\n",
      "|1930|\n",
      "|1930|\n",
      "|1930|\n",
      "|1930|\n",
      "|1930|\n",
      "|1930|\n",
      "|1930|\n",
      "|1930|\n",
      "|1930|\n",
      "|1930|\n",
      "|1930|\n",
      "|1930|\n",
      "|1930|\n",
      "| 715|\n",
      "| 715|\n",
      "| 715|\n",
      "| 715|\n",
      "+----+\n",
      "only showing top 20 rows\n",
      "\n"
     ]
    }
   ],
   "source": [
    "df.select(\"hrmn\").show()"
   ]
  },
  {
   "cell_type": "code",
   "execution_count": 40,
   "metadata": {
    "scrolled": true
   },
   "outputs": [
    {
     "name": "stdout",
     "output_type": "stream",
     "text": [
      "+----+-----+\n",
      "|hrmn|heure|\n",
      "+----+-----+\n",
      "|1730| 17.5|\n",
      "|1730| 17.5|\n",
      "|1930| 19.5|\n",
      "|1930| 19.5|\n",
      "|1930| 19.5|\n",
      "|1930| 19.5|\n",
      "|1930| 19.5|\n",
      "|1930| 19.5|\n",
      "|1930| 19.5|\n",
      "|1930| 19.5|\n",
      "|1930| 19.5|\n",
      "|1930| 19.5|\n",
      "|1930| 19.5|\n",
      "|1930| 19.5|\n",
      "|1930| 19.5|\n",
      "|1930| 19.5|\n",
      "| 715| 7.25|\n",
      "| 715| 7.25|\n",
      "| 715| 7.25|\n",
      "| 715| 7.25|\n",
      "+----+-----+\n",
      "only showing top 20 rows\n",
      "\n"
     ]
    }
   ],
   "source": [
    "def hrmin_to_heures(x):\n",
    "    x_str = str(x)\n",
    "    print(x_str)\n",
    "    l = len(x_str)\n",
    "    \n",
    "    if l == 4:\n",
    "        \n",
    "        heures_str = x_str[:2]\n",
    "        minutes_str = x_str[2:]\n",
    "        \n",
    "        heures = float(heures_str)\n",
    "        minutes = float(minutes_str)/60\n",
    "        \n",
    "        return(heures + minutes)\n",
    "    \n",
    "    elif l == 3:\n",
    "        heures_str = x_str[:1]\n",
    "        minutes_str = x_str[1:]\n",
    "        \n",
    "        heures = float(heures_str)\n",
    "        minutes = float(minutes_str)/60\n",
    "        \n",
    "        return(heures + minutes)\n",
    "    \n",
    "    elif (l < 3 and l > 0):\n",
    "\n",
    "        minutes_str = x_str\n",
    "        \n",
    "        heures = 0\n",
    "        minutes = float(minutes_str)/60\n",
    "        \n",
    "        return(heures + minutes)\n",
    "        \n",
    "    else:\n",
    "        print(\"Pas le bon format\")\n",
    "\n",
    "udf_hrmin_to_heures = udf(hrmin_to_heures, FloatType())\n",
    "\n",
    "df = df.withColumn(\"heure\", udf_hrmin_to_heures(df.hrmn))\n",
    "\n",
    "df.select([\"hrmn\", \"heure\"]).show()"
   ]
  },
  {
   "cell_type": "code",
   "execution_count": 41,
   "metadata": {},
   "outputs": [],
   "source": [
    "# Il faut que les variables à standard scaler soient mises au bon format\n",
    "elem_a_std_scaler = [\"lartpc\", \"larrout\", \"occutc\", \"age\", \"heure\"]\n",
    "num_var = [\"hrmn\"]\n",
    "\n",
    "variables_a_StandardScaler = []\n",
    "\n",
    "for elem in elem_a_std_scaler:\n",
    "    \n",
    "    assembler_features = VectorAssembler(inputCols=[elem], outputCol='{}_prevect'.format(elem))\n",
    "    pip_preparation += [assembler_features]\n",
    "    variables_a_StandardScaler.append('{}_prevect'.format(elem))\n",
    "    num_var.append(elem)\n",
    "    num_var.append('{}_prevect'.format(elem))"
   ]
  },
  {
   "cell_type": "code",
   "execution_count": 42,
   "metadata": {},
   "outputs": [],
   "source": [
    "drop_other = [\"an_nais\", \"Num_Acc\"]\n",
    "\n",
    "for elem in drop_other:\n",
    "    df = df.drop(elem)"
   ]
  },
  {
   "cell_type": "code",
   "execution_count": 43,
   "metadata": {},
   "outputs": [],
   "source": [
    "for var in variables_a_StandardScaler:\n",
    "    var_scaled = '{}_scaled'.format(var)\n",
    "    features_a_assembler.append(var_scaled)\n",
    "    pip_preparation += [StandardScaler(inputCol=var, outputCol=var_scaled)]\n",
    "    "
   ]
  },
  {
   "cell_type": "markdown",
   "metadata": {},
   "source": [
    "### III.1.3 StringIndexer"
   ]
  },
  {
   "cell_type": "code",
   "execution_count": 44,
   "metadata": {},
   "outputs": [
    {
     "name": "stdout",
     "output_type": "stream",
     "text": [
      "string\n",
      "Il y a 1 éléments à StringIndexer il s'agit de num_veh. Cette variable ne sera prédictive ... On peut directement supprimer cette colonne\n"
     ]
    }
   ],
   "source": [
    "variables_a_string_indexer = []\n",
    "\n",
    "for type_elem in df.dtypes:\n",
    "    if type_elem[0] == \"num_veh\":\n",
    "        print(type_elem[1])\n",
    "        \n",
    "    if type_elem[1] == \"string\":\n",
    "        variables_a_string_indexer.append(type_elem[0])\n",
    "\n",
    "\n",
    "print(\"Il y a {} éléments à StringIndexer il s'agit de {}. Cette variable ne sera prédictive ... On peut directement supprimer cette colonne\".format(len(variables_a_string_indexer), variables_a_string_indexer[0]))\n",
    "\n",
    "df = df.drop(\"num_veh\")"
   ]
  },
  {
   "cell_type": "markdown",
   "metadata": {},
   "source": [
    "### III.1.4 OneHotEncoder"
   ]
  },
  {
   "cell_type": "code",
   "execution_count": 45,
   "metadata": {
    "scrolled": true
   },
   "outputs": [
    {
     "name": "stdout",
     "output_type": "stream",
     "text": [
      "catv\n",
      "grav\n",
      "atm\n",
      "mois\n",
      "actp\n",
      "an\n",
      "dep\n",
      "dep : colonne suspecte\n",
      "int\n",
      "larrout\n",
      "larrout : colonne suspecte\n",
      "infra\n",
      "trajet\n",
      "senc\n",
      "locp\n",
      "etatp\n",
      "place\n",
      "surf\n",
      "secu\n",
      "choc\n",
      "lum\n",
      "jour\n",
      "heure\n",
      "env1\n",
      "age\n",
      "agg\n",
      "manv\n",
      "plan\n",
      "hrmn\n",
      "situ\n",
      "com\n",
      "obsm\n",
      "vosp\n",
      "prof\n",
      "occutc\n",
      "year\n",
      "sexe\n",
      "catr\n",
      "circ\n",
      "lartpc\n",
      "nbv\n",
      "col\n",
      "obs\n",
      "catu\n"
     ]
    }
   ],
   "source": [
    "all_col = set(df.columns)\n",
    "negative_col = []\n",
    "\n",
    "for col in all_col:\n",
    "    print(col)\n",
    "    filtered_df = df.filter(df[col] < 0)\n",
    "    nb_neg = filtered_df.count()\n",
    "    \n",
    "    if nb_neg > 0:\n",
    "        print(col, \": colonne suspecte\")\n",
    "        df = df.filter(df[col] > 0)"
   ]
  },
  {
   "cell_type": "code",
   "execution_count": 46,
   "metadata": {},
   "outputs": [
    {
     "name": "stdout",
     "output_type": "stream",
     "text": [
      "{'catv', 'grav', 'atm', 'mois', 'actp', 'an', 'dep', 'int', 'larrout', 'infra', 'trajet', 'senc', 'locp', 'etatp', 'place', 'surf', 'secu', 'choc', 'lum', 'jour', 'heure', 'env1', 'age', 'agg', 'manv', 'plan', 'hrmn', 'situ', 'com', 'obsm', 'vosp', 'prof', 'occutc', 'year', 'sexe', 'catr', 'circ', 'lartpc', 'nbv', 'col', 'obs', 'catu'}\n",
      "{'larrout', 'occutc', 'heure', 'age_prevect', 'age', 'lartpc_prevect', 'lartpc', 'larrout_prevect', 'hrmn', 'occutc_prevect', 'heure_prevect'}\n",
      "{'lum', 'env1', 'atm', 'agg', 'manv', 'plan', 'mois', 'actp', 'situ', 'obsm', 'vosp', 'int', 'prof', 'infra', 'trajet', 'year', 'sexe', 'catr', 'senc', 'circ', 'locp', 'etatp', 'col', 'place', 'surf', 'secu', 'obs', 'catu', 'choc'}\n"
     ]
    }
   ],
   "source": [
    "num_var.append('hrmn')\n",
    "all_col = set(df.columns)\n",
    "a_enlever = set([\"nbv\", \"jour\", \"an\", \"com\", \"dep\", \"catv\"])\n",
    "numerical_col = set(num_var)\n",
    "target_col = set([\"grav\"])\n",
    "\n",
    "print(all_col)\n",
    "print(numerical_col)\n",
    "\n",
    "colonnes_a_OneHotEncoder = all_col - numerical_col - a_enlever - target_col\n",
    "\n",
    "print(colonnes_a_OneHotEncoder)\n",
    "\n",
    "for var in colonnes_a_OneHotEncoder:\n",
    "    var_scaled = '{}_vect'.format(var)\n",
    "    features_a_assembler.append(var_scaled)\n",
    "    pip_preparation += [OneHotEncoder(inputCol=var, outputCol=var_scaled)]"
   ]
  },
  {
   "cell_type": "code",
   "execution_count": 47,
   "metadata": {},
   "outputs": [
    {
     "name": "stdout",
     "output_type": "stream",
     "text": [
      "manv\n",
      "mois\n",
      "year\n",
      "secu\n",
      "obs\n"
     ]
    }
   ],
   "source": [
    "for col in colonnes_a_OneHotEncoder:\n",
    "    \n",
    "    nb = df.select([col]).distinct().count()\n",
    "    if nb > 10:\n",
    "        print(col)"
   ]
  },
  {
   "cell_type": "markdown",
   "metadata": {},
   "source": [
    "### III.1.5 VectorAssembler"
   ]
  },
  {
   "cell_type": "code",
   "execution_count": 48,
   "metadata": {
    "scrolled": true
   },
   "outputs": [
    {
     "data": {
      "text/plain": [
       "['lartpc_prevect_scaled',\n",
       " 'larrout_prevect_scaled',\n",
       " 'occutc_prevect_scaled',\n",
       " 'age_prevect_scaled',\n",
       " 'heure_prevect_scaled',\n",
       " 'lum_vect',\n",
       " 'env1_vect',\n",
       " 'atm_vect',\n",
       " 'agg_vect',\n",
       " 'manv_vect',\n",
       " 'plan_vect',\n",
       " 'mois_vect',\n",
       " 'actp_vect',\n",
       " 'situ_vect',\n",
       " 'obsm_vect',\n",
       " 'vosp_vect',\n",
       " 'int_vect',\n",
       " 'prof_vect',\n",
       " 'infra_vect',\n",
       " 'trajet_vect',\n",
       " 'year_vect',\n",
       " 'sexe_vect',\n",
       " 'catr_vect',\n",
       " 'senc_vect',\n",
       " 'circ_vect',\n",
       " 'locp_vect',\n",
       " 'etatp_vect',\n",
       " 'col_vect',\n",
       " 'place_vect',\n",
       " 'surf_vect',\n",
       " 'secu_vect',\n",
       " 'obs_vect',\n",
       " 'catu_vect',\n",
       " 'choc_vect']"
      ]
     },
     "execution_count": 48,
     "metadata": {},
     "output_type": "execute_result"
    }
   ],
   "source": [
    "features_a_assembler"
   ]
  },
  {
   "cell_type": "code",
   "execution_count": 49,
   "metadata": {},
   "outputs": [],
   "source": [
    "assembler_features = VectorAssembler(inputCols=features_a_assembler, outputCol='features')\n",
    "pip_preparation += [assembler_features]"
   ]
  },
  {
   "cell_type": "code",
   "execution_count": 50,
   "metadata": {
    "scrolled": true
   },
   "outputs": [
    {
     "data": {
      "text/plain": [
       "[VectorAssembler_4deeb350796ca79887f8,\n",
       " VectorAssembler_4ef8b3d594a4712ea082,\n",
       " VectorAssembler_4cea8cbdd6364acaca6e,\n",
       " VectorAssembler_41b3957c3f67daf9e454,\n",
       " VectorAssembler_4e8898e2478b2cfa3663,\n",
       " StandardScaler_45c5980cedf060647472,\n",
       " StandardScaler_48bdbaf53bdd4d734d60,\n",
       " StandardScaler_406ebab0b910f80682ad,\n",
       " StandardScaler_42aba8f7ae8bc09725a4,\n",
       " StandardScaler_4042b575bc3f765637b1,\n",
       " OneHotEncoder_46ccaee999d0a9e93c87,\n",
       " OneHotEncoder_4fccb2bf2ba859cb1357,\n",
       " OneHotEncoder_4498877ef1b1598b052b,\n",
       " OneHotEncoder_4e06a58353cdf6d342d1,\n",
       " OneHotEncoder_42d58ccfa01276a1b5d1,\n",
       " OneHotEncoder_42d1b10ac4a6b8f64c7a,\n",
       " OneHotEncoder_45139aee9d3f5ecf34e3,\n",
       " OneHotEncoder_4fab92e07d2531b59560,\n",
       " OneHotEncoder_4703826ffb0eb0b07efb,\n",
       " OneHotEncoder_4cd381dd8ffa3a4aadb7,\n",
       " OneHotEncoder_41e7ad6b2209c52de193,\n",
       " OneHotEncoder_4e2087df149a993b7cc0,\n",
       " OneHotEncoder_47578efb918fb10fcdfa,\n",
       " OneHotEncoder_486ebfd2bd7f4ca96bb5,\n",
       " OneHotEncoder_45aab44e2521c451a4fc,\n",
       " OneHotEncoder_45a38627fd744b199396,\n",
       " OneHotEncoder_4ec8868bc6a284a903cf,\n",
       " OneHotEncoder_4ed19dc628fd635195d3,\n",
       " OneHotEncoder_40a48f86411c5df5c67f,\n",
       " OneHotEncoder_45a38f55d341047d7068,\n",
       " OneHotEncoder_482c9a9b425524fcc387,\n",
       " OneHotEncoder_431bb48fe82daaf3065d,\n",
       " OneHotEncoder_4091834fb01c5f389b9c,\n",
       " OneHotEncoder_4331872dd52d002398dc,\n",
       " OneHotEncoder_49d49b2000bdee0bc51b,\n",
       " OneHotEncoder_4110a6678d05ff7cd266,\n",
       " OneHotEncoder_4bda993b86ebd17c1484,\n",
       " OneHotEncoder_4b1b9c9847e2fe65ac89,\n",
       " OneHotEncoder_4c1cb6e23176298ade68,\n",
       " VectorAssembler_4c7d8831535f8f951ddb]"
      ]
     },
     "execution_count": 50,
     "metadata": {},
     "output_type": "execute_result"
    }
   ],
   "source": [
    "pip_preparation"
   ]
  },
  {
   "cell_type": "code",
   "execution_count": 51,
   "metadata": {},
   "outputs": [],
   "source": [
    "myPipeline= Pipeline(stages=pip_preparation)\n",
    "\n",
    "df_out = myPipeline.fit(df).transform(df)"
   ]
  },
  {
   "cell_type": "code",
   "execution_count": 52,
   "metadata": {
    "scrolled": true
   },
   "outputs": [
    {
     "data": {
      "text/plain": [
       "[('catr', 'int'),\n",
       " ('circ', 'int'),\n",
       " ('nbv', 'int'),\n",
       " ('vosp', 'int'),\n",
       " ('prof', 'int'),\n",
       " ('plan', 'int'),\n",
       " ('lartpc', 'int'),\n",
       " ('larrout', 'int'),\n",
       " ('surf', 'int'),\n",
       " ('infra', 'int'),\n",
       " ('situ', 'int'),\n",
       " ('env1', 'int'),\n",
       " ('year', 'int'),\n",
       " ('an', 'int'),\n",
       " ('mois', 'int'),\n",
       " ('jour', 'int'),\n",
       " ('hrmn', 'int'),\n",
       " ('lum', 'int'),\n",
       " ('agg', 'int'),\n",
       " ('int', 'int'),\n",
       " ('atm', 'int'),\n",
       " ('col', 'int'),\n",
       " ('com', 'int'),\n",
       " ('dep', 'int'),\n",
       " ('place', 'int'),\n",
       " ('catu', 'int'),\n",
       " ('grav', 'int'),\n",
       " ('sexe', 'int'),\n",
       " ('trajet', 'int'),\n",
       " ('secu', 'int'),\n",
       " ('locp', 'int'),\n",
       " ('actp', 'int'),\n",
       " ('etatp', 'int'),\n",
       " ('senc', 'int'),\n",
       " ('catv', 'int'),\n",
       " ('occutc', 'int'),\n",
       " ('obs', 'int'),\n",
       " ('obsm', 'int'),\n",
       " ('choc', 'int'),\n",
       " ('manv', 'int'),\n",
       " ('age', 'int'),\n",
       " ('heure', 'float'),\n",
       " ('lartpc_prevect', 'vector'),\n",
       " ('larrout_prevect', 'vector'),\n",
       " ('occutc_prevect', 'vector'),\n",
       " ('age_prevect', 'vector'),\n",
       " ('heure_prevect', 'vector'),\n",
       " ('lartpc_prevect_scaled', 'vector'),\n",
       " ('larrout_prevect_scaled', 'vector'),\n",
       " ('occutc_prevect_scaled', 'vector'),\n",
       " ('age_prevect_scaled', 'vector'),\n",
       " ('heure_prevect_scaled', 'vector'),\n",
       " ('lum_vect', 'vector'),\n",
       " ('env1_vect', 'vector'),\n",
       " ('atm_vect', 'vector'),\n",
       " ('agg_vect', 'vector'),\n",
       " ('manv_vect', 'vector'),\n",
       " ('plan_vect', 'vector'),\n",
       " ('mois_vect', 'vector'),\n",
       " ('actp_vect', 'vector'),\n",
       " ('situ_vect', 'vector'),\n",
       " ('obsm_vect', 'vector'),\n",
       " ('vosp_vect', 'vector'),\n",
       " ('int_vect', 'vector'),\n",
       " ('prof_vect', 'vector'),\n",
       " ('infra_vect', 'vector'),\n",
       " ('trajet_vect', 'vector'),\n",
       " ('year_vect', 'vector'),\n",
       " ('sexe_vect', 'vector'),\n",
       " ('catr_vect', 'vector'),\n",
       " ('senc_vect', 'vector'),\n",
       " ('circ_vect', 'vector'),\n",
       " ('locp_vect', 'vector'),\n",
       " ('etatp_vect', 'vector'),\n",
       " ('col_vect', 'vector'),\n",
       " ('place_vect', 'vector'),\n",
       " ('surf_vect', 'vector'),\n",
       " ('secu_vect', 'vector'),\n",
       " ('obs_vect', 'vector'),\n",
       " ('catu_vect', 'vector'),\n",
       " ('choc_vect', 'vector'),\n",
       " ('features', 'vector')]"
      ]
     },
     "execution_count": 52,
     "metadata": {},
     "output_type": "execute_result"
    }
   ],
   "source": [
    "df_out.dtypes"
   ]
  },
  {
   "cell_type": "markdown",
   "metadata": {},
   "source": [
    "### III.1.6 Classification Binaire -> binarisation de la colonne 'grav'"
   ]
  },
  {
   "cell_type": "code",
   "execution_count": 53,
   "metadata": {},
   "outputs": [],
   "source": [
    "#On transforme la colonne 'grav'\n",
    "#1 : accident entrainant la mort\n",
    "#0 : autres\n",
    "def grav_binaire(gravite):\n",
    "    if gravite == 2:\n",
    "        return 1.0\n",
    "    else:\n",
    "        return 0.0\n",
    "udf_grav_binaire = udf(grav_binaire, DoubleType())"
   ]
  },
  {
   "cell_type": "code",
   "execution_count": 54,
   "metadata": {},
   "outputs": [
    {
     "name": "stdout",
     "output_type": "stream",
     "text": [
      "+--------------------+------------+\n",
      "|            features|grav_binaire|\n",
      "+--------------------+------------+\n",
      "|(2405,[1,3,4,6,10...|         0.0|\n",
      "|(2405,[1,3,4,6,10...|         0.0|\n",
      "|(2405,[0,1,3,4,8,...|         0.0|\n",
      "|(2405,[0,1,3,4,8,...|         0.0|\n",
      "|(2405,[0,1,3,4,8,...|         0.0|\n",
      "|(2405,[0,1,3,4,8,...|         0.0|\n",
      "|(2405,[0,1,3,4,8,...|         0.0|\n",
      "|(2405,[0,1,3,4,8,...|         0.0|\n",
      "|(2405,[0,1,3,4,8,...|         0.0|\n",
      "|(2405,[0,1,3,4,8,...|         0.0|\n",
      "|(2405,[0,1,3,4,8,...|         0.0|\n",
      "|(2405,[0,1,3,4,8,...|         0.0|\n",
      "|(2405,[1,3,4,7,10...|         0.0|\n",
      "|(2405,[1,3,4,7,10...|         0.0|\n",
      "|(2405,[1,3,4,7,10...|         0.0|\n",
      "|(2405,[1,3,4,7,10...|         0.0|\n",
      "|(2405,[1,3,4,8,10...|         0.0|\n",
      "|(2405,[1,3,4,8,10...|         0.0|\n",
      "|(2405,[1,3,4,8,10...|         0.0|\n",
      "|(2405,[1,3,4,8,10...|         0.0|\n",
      "+--------------------+------------+\n",
      "only showing top 20 rows\n",
      "\n"
     ]
    }
   ],
   "source": [
    "df_out_final = df_out.select(\"features\", udf_grav_binaire(\"grav\").alias('grav_binaire'))\n",
    "df_out_final.show()"
   ]
  },
  {
   "cell_type": "code",
   "execution_count": 55,
   "metadata": {},
   "outputs": [
    {
     "name": "stdout",
     "output_type": "stream",
     "text": [
      "Nombre de morts sur le nombre total d'individu impliqué dans des accidents : 60043 / 2274697 (2.639604307738569%)\n"
     ]
    }
   ],
   "source": [
    "nb_morts = df_out_final.filter(df_out_final.grav_binaire > 0).count()\n",
    "nb_individus = df_out_final.count()\n",
    "print(\"Nombre de morts sur le nombre total d'individu impliqué dans des accidents :\",\n",
    "      nb_morts,\n",
    "      \"/\",\n",
    "      nb_individus,\n",
    "      \"(\" + str((nb_morts/nb_individus)*100) + \"%)\"\n",
    "     )"
   ]
  },
  {
   "cell_type": "markdown",
   "metadata": {},
   "source": [
    "Le dataset est très déséquilibré. Nos résultats risquent d'être très mauvais."
   ]
  },
  {
   "cell_type": "markdown",
   "metadata": {},
   "source": [
    "On 'undersample' l'échantillon le plus représenté"
   ]
  },
  {
   "cell_type": "code",
   "execution_count": 56,
   "metadata": {},
   "outputs": [],
   "source": [
    "stratified_df = df_out_final.sampleBy(\"grav_binaire\", fractions={0: 0.1, 1: 1}, seed=0)"
   ]
  },
  {
   "cell_type": "code",
   "execution_count": 57,
   "metadata": {},
   "outputs": [
    {
     "name": "stdout",
     "output_type": "stream",
     "text": [
      "Nombre de morts sur le nombre total d'individu impliqué dans des accidents : 60043 / 282161 (21.279694925946536%)\n"
     ]
    }
   ],
   "source": [
    "nb_morts = stratified_df.filter(stratified_df.grav_binaire > 0).count()\n",
    "nb_individus = stratified_df.count()\n",
    "print(\"Nombre de morts sur le nombre total d'individu impliqué dans des accidents :\",\n",
    "      nb_morts,\n",
    "      \"/\",\n",
    "      nb_individus,\n",
    "      \"(\" + str((nb_morts/nb_individus)*100) + \"%)\"\n",
    "     )"
   ]
  },
  {
   "cell_type": "markdown",
   "metadata": {},
   "source": [
    "## III.2 Model 1 : Regression Logistique"
   ]
  },
  {
   "cell_type": "code",
   "execution_count": 58,
   "metadata": {},
   "outputs": [],
   "source": [
    "#train/test split \n",
    "train, test = stratified_df.randomSplit([0.7, 0.3], seed = 12345)\n",
    "logreg = LogisticRegression(labelCol=\"grav_binaire\", \n",
    "                            featuresCol=\"features\", \n",
    "                            maxIter=10,\n",
    "                            regParam=0.01,        # L2 regularization\n",
    "                            elasticNetParam=0.01) # L1 regularization"
   ]
  },
  {
   "cell_type": "code",
   "execution_count": 59,
   "metadata": {},
   "outputs": [
    {
     "name": "stdout",
     "output_type": "stream",
     "text": [
      "CPU times: user 260 ms, sys: 113 ms, total: 373 ms\n",
      "Wall time: 59.5 s\n"
     ]
    }
   ],
   "source": [
    "%%time\n",
    "logreg_model = logreg.fit(train)"
   ]
  },
  {
   "cell_type": "code",
   "execution_count": 60,
   "metadata": {},
   "outputs": [
    {
     "name": "stdout",
     "output_type": "stream",
     "text": [
      "CPU times: user 1.94 ms, sys: 8.93 ms, total: 10.9 ms\n",
      "Wall time: 62.1 ms\n"
     ]
    }
   ],
   "source": [
    "%%time\n",
    "pred_test = logreg_model.transform(test)"
   ]
  },
  {
   "cell_type": "code",
   "execution_count": 61,
   "metadata": {
    "scrolled": true
   },
   "outputs": [
    {
     "name": "stdout",
     "output_type": "stream",
     "text": [
      "+--------------------+------------+--------------------+--------------------+----------+\n",
      "|            features|grav_binaire|       rawPrediction|         probability|prediction|\n",
      "+--------------------+------------+--------------------+--------------------+----------+\n",
      "|(2405,[0,1,3,4,6,...|         0.0|[1.76466685199173...|[0.85379318751147...|       0.0|\n",
      "|(2405,[0,1,3,4,6,...|         0.0|[1.76456720213083...|[0.85378074774286...|       0.0|\n",
      "|(2405,[0,1,3,4,6,...|         0.0|[1.27077817494524...|[0.78087592952775...|       0.0|\n",
      "|(2405,[0,1,3,4,6,...|         0.0|[2.45964459139332...|[0.92126388650802...|       0.0|\n",
      "|(2405,[0,1,3,4,6,...|         0.0|[1.27406854890730...|[0.78143842082455...|       0.0|\n",
      "|(2405,[0,1,3,4,6,...|         0.0|[1.29562764333101...|[0.78509820294131...|       0.0|\n",
      "|(2405,[0,1,3,4,6,...|         0.0|[1.63133756428005...|[0.83635278929188...|       0.0|\n",
      "|(2405,[0,1,3,4,6,...|         0.0|[3.62080174647347...|[0.97393628444050...|       0.0|\n",
      "|(2405,[0,1,3,4,6,...|         0.0|[2.26340653228653...|[0.90580069820167...|       0.0|\n",
      "|(2405,[0,1,3,4,6,...|         1.0|[1.50477973802178...|[0.81828627535011...|       0.0|\n",
      "|(2405,[0,1,3,4,6,...|         0.0|[1.66420488937747...|[0.84080165219987...|       0.0|\n",
      "|(2405,[0,1,3,4,6,...|         0.0|[1.07471197056458...|[0.74549196910216...|       0.0|\n",
      "|(2405,[0,1,3,4,6,...|         0.0|[4.18457802448885...|[0.98499980178350...|       0.0|\n",
      "|(2405,[0,1,3,4,6,...|         0.0|[3.87301261086803...|[0.97962802219466...|       0.0|\n",
      "|(2405,[0,1,3,4,6,...|         0.0|[4.11429551437287...|[0.98392517571922...|       0.0|\n",
      "|(2405,[0,1,3,4,6,...|         0.0|[3.84525688191386...|[0.97906666522812...|       0.0|\n",
      "|(2405,[0,1,3,4,6,...|         0.0|[4.05736343388214...|[0.98299945952090...|       0.0|\n",
      "|(2405,[0,1,3,4,6,...|         0.0|[3.76861107010421...|[0.97743674917866...|       0.0|\n",
      "|(2405,[0,1,3,4,6,...|         0.0|[4.50106735732709...|[0.98902464946770...|       0.0|\n",
      "|(2405,[0,1,3,4,6,...|         0.0|[2.70595466624948...|[0.93737710212735...|       0.0|\n",
      "|(2405,[0,1,3,4,6,...|         0.0|[2.00040129323671...|[0.88083920475559...|       0.0|\n",
      "|(2405,[0,1,3,4,6,...|         0.0|[2.19352898569907...|[0.89966690473813...|       0.0|\n",
      "|(2405,[0,1,3,4,6,...|         0.0|[0.95573674711413...|[0.72226741945183...|       0.0|\n",
      "|(2405,[0,1,3,4,6,...|         0.0|[2.00495149045917...|[0.88131597327025...|       0.0|\n",
      "|(2405,[0,1,3,4,6,...|         0.0|[2.81028794317662...|[0.94322923989458...|       0.0|\n",
      "|(2405,[0,1,3,4,6,...|         0.0|[2.81028794317662...|[0.94322923989458...|       0.0|\n",
      "|(2405,[0,1,3,4,6,...|         1.0|[-0.1744837242864...|[0.45648940141231...|       1.0|\n",
      "|(2405,[0,1,3,4,6,...|         0.0|[3.41633328884001...|[0.96821110982059...|       0.0|\n",
      "|(2405,[0,1,3,4,6,...|         1.0|[2.34340962546219...|[0.91240896195417...|       0.0|\n",
      "|(2405,[0,1,3,4,6,...|         0.0|[4.06335111133350...|[0.98309923387496...|       0.0|\n",
      "|(2405,[0,1,3,4,6,...|         0.0|[2.13316172698005...|[0.89408478822536...|       0.0|\n",
      "|(2405,[0,1,3,4,6,...|         0.0|[1.53275137662952...|[0.82240851685905...|       0.0|\n",
      "|(2405,[0,1,3,4,6,...|         0.0|[2.96632798706427...|[0.95102954568823...|       0.0|\n",
      "|(2405,[0,1,3,4,6,...|         0.0|[1.45588276001163...|[0.81090214580519...|       0.0|\n",
      "|(2405,[0,1,3,4,6,...|         0.0|[2.59787749555247...|[0.93072485389526...|       0.0|\n",
      "|(2405,[0,1,3,4,6,...|         0.0|[1.94900985071908...|[0.87533863597190...|       0.0|\n",
      "|(2405,[0,1,3,4,6,...|         0.0|[2.72057891379526...|[0.93823009284272...|       0.0|\n",
      "|(2405,[0,1,3,4,6,...|         0.0|[2.73178007295262...|[0.93887607148144...|       0.0|\n",
      "|(2405,[0,1,3,4,6,...|         0.0|[1.65728868905284...|[0.83987370598520...|       0.0|\n",
      "|(2405,[0,1,3,4,6,...|         0.0|[2.62626497800552...|[0.93253293883496...|       0.0|\n",
      "|(2405,[0,1,3,4,6,...|         0.0|[3.21486943403942...|[0.96139002191549...|       0.0|\n",
      "|(2405,[0,1,3,4,6,...|         0.0|[2.69355659516965...|[0.93664536101281...|       0.0|\n",
      "|(2405,[0,1,3,4,6,...|         0.0|[3.80549688604257...|[0.97823606738268...|       0.0|\n",
      "|(2405,[0,1,3,4,6,...|         0.0|[3.97821201923649...|[0.98162488641191...|       0.0|\n",
      "|(2405,[0,1,3,4,6,...|         0.0|[1.65231361752084...|[0.83920349732109...|       0.0|\n",
      "|(2405,[0,1,3,4,6,...|         0.0|[3.21921192751472...|[0.96155088944207...|       0.0|\n",
      "|(2405,[0,1,3,4,6,...|         0.0|[4.07044502283939...|[0.98321669709200...|       0.0|\n",
      "|(2405,[0,1,3,4,6,...|         0.0|[2.51447169491549...|[0.92515013290334...|       0.0|\n",
      "|(2405,[0,1,3,4,6,...|         0.0|[3.61817904606236...|[0.97386962595085...|       0.0|\n",
      "|(2405,[0,1,3,4,6,...|         0.0|[1.80116943106363...|[0.85829122955792...|       0.0|\n",
      "|(2405,[0,1,3,4,6,...|         0.0|[4.50295808034375...|[0.98904515409735...|       0.0|\n",
      "|(2405,[0,1,3,4,6,...|         0.0|[3.11546398428262...|[0.95752613150894...|       0.0|\n",
      "|(2405,[0,1,3,4,6,...|         0.0|[2.93137020458375...|[0.94937556985307...|       0.0|\n",
      "|(2405,[0,1,3,4,6,...|         0.0|[2.27726687938185...|[0.90697670996324...|       0.0|\n",
      "|(2405,[0,1,3,4,6,...|         0.0|[4.60755083845152...|[0.99012232013468...|       0.0|\n",
      "|(2405,[0,1,3,4,6,...|         0.0|[3.15599875883166...|[0.95914443999297...|       0.0|\n",
      "|(2405,[0,1,3,4,6,...|         0.0|[5.34803754443515...|[0.99526504824581...|       0.0|\n",
      "|(2405,[0,1,3,4,6,...|         0.0|[1.33908076657977...|[0.79233873319651...|       0.0|\n",
      "|(2405,[0,1,3,4,7,...|         0.0|[4.05348869346591...|[0.98293458538017...|       0.0|\n",
      "|(2405,[0,1,3,4,7,...|         0.0|[2.31160242725468...|[0.90983339931697...|       0.0|\n",
      "|(2405,[0,1,3,4,7,...|         0.0|[1.41777415978566...|[0.80498923771507...|       0.0|\n",
      "|(2405,[0,1,3,4,8,...|         0.0|[1.59194348934035...|[0.83088936272826...|       0.0|\n",
      "|(2405,[0,1,3,4,8,...|         0.0|[1.70351920256747...|[0.84599380429127...|       0.0|\n",
      "|(2405,[0,1,3,4,8,...|         0.0|[1.68275083688751...|[0.84326844376026...|       0.0|\n",
      "|(2405,[0,1,3,4,8,...|         1.0|[1.40410820682027...|[0.80283498972194...|       0.0|\n",
      "|(2405,[0,1,3,4,8,...|         0.0|[1.44932418778592...|[0.80989440403838...|       0.0|\n",
      "|(2405,[0,1,3,4,8,...|         0.0|[0.61402231988675...|[0.64885780071453...|       0.0|\n",
      "|(2405,[0,1,3,4,8,...|         0.0|[0.87191026877174...|[0.70514302966936...|       0.0|\n",
      "|(2405,[0,1,3,4,8,...|         0.0|[2.03842392806815...|[0.88477268486652...|       0.0|\n",
      "|(2405,[0,1,3,4,8,...|         0.0|[2.50298912586093...|[0.92435110332279...|       0.0|\n",
      "|(2405,[0,1,3,4,8,...|         0.0|[1.38729359568551...|[0.80015982960502...|       0.0|\n",
      "|(2405,[0,1,3,4,8,...|         0.0|[1.83821227605500...|[0.86273713924739...|       0.0|\n",
      "|(2405,[0,1,3,4,8,...|         0.0|[1.71360208197521...|[0.84730290733558...|       0.0|\n",
      "|(2405,[0,1,3,4,8,...|         0.0|[0.55169006904678...|[0.63452761098361...|       0.0|\n",
      "|(2405,[0,1,3,4,8,...|         0.0|[0.18821583571261...|[0.54691554125951...|       0.0|\n",
      "|(2405,[0,1,3,4,10...|         0.0|[4.48343136216305...|[0.98883155229168...|       0.0|\n",
      "|(2405,[0,1,3,4,10...|         0.0|[1.36988818757751...|[0.79736208798920...|       0.0|\n",
      "|(2405,[0,1,3,4,10...|         0.0|[3.86091155294471...|[0.97938511499098...|       0.0|\n",
      "|(2405,[0,1,3,4,11...|         0.0|[2.21429806868982...|[0.90152615443482...|       0.0|\n",
      "|(2405,[0,1,3,4,11...|         1.0|[0.64706923197774...|[0.65634971722112...|       0.0|\n",
      "|(2405,[0,1,4,10,1...|         0.0|[3.47002897420720...|[0.96982286649855...|       0.0|\n",
      "|(2405,[0,1,4,10,1...|         0.0|[3.91988573597130...|[0.98054273554474...|       0.0|\n",
      "|(2405,[0,1,4,10,1...|         0.0|[2.02395970153747...|[0.88328983036284...|       0.0|\n",
      "|(2405,[1,2,3,4,6,...|         0.0|[4.46309259551408...|[0.98860468907411...|       0.0|\n",
      "|(2405,[1,2,3,4,7,...|         0.0|[0.72659688440932...|[0.67405803849531...|       0.0|\n",
      "|(2405,[1,2,3,4,7,...|         0.0|[0.73950650515783...|[0.67688793307947...|       0.0|\n",
      "|(2405,[1,3,4,6,10...|         0.0|[0.35400726073925...|[0.58758899073156...|       0.0|\n",
      "|(2405,[1,3,4,6,10...|         0.0|[0.58676250378535...|[0.64262196943786...|       0.0|\n",
      "|(2405,[1,3,4,6,10...|         0.0|[1.27606746962681...|[0.78177962925390...|       0.0|\n",
      "|(2405,[1,3,4,6,10...|         0.0|[1.59178574670322...|[0.83086719680169...|       0.0|\n",
      "|(2405,[1,3,4,6,10...|         0.0|[1.28893321695766...|[0.78396657034715...|       0.0|\n",
      "|(2405,[1,3,4,6,10...|         0.0|[-0.1539515242522...|[0.46158795620233...|       1.0|\n",
      "|(2405,[1,3,4,6,10...|         0.0|[1.76324654065507...|[0.85361580040035...|       0.0|\n",
      "|(2405,[1,3,4,6,10...|         0.0|[1.30677514540461...|[0.78697302067281...|       0.0|\n",
      "|(2405,[1,3,4,6,10...|         0.0|[1.63304529507282...|[0.83658638670755...|       0.0|\n",
      "|(2405,[1,3,4,6,10...|         0.0|[1.06907543551591...|[0.74442104946907...|       0.0|\n",
      "|(2405,[1,3,4,6,10...|         0.0|[0.63345399815122...|[0.65327223272478...|       0.0|\n",
      "|(2405,[1,3,4,6,10...|         0.0|[-0.6046073427914...|[0.35329031512686...|       1.0|\n",
      "|(2405,[1,3,4,6,10...|         0.0|[0.70118296830918...|[0.66844999926751...|       0.0|\n",
      "|(2405,[1,3,4,6,10...|         0.0|[0.74497289392975...|[0.67808233268603...|       0.0|\n",
      "+--------------------+------------+--------------------+--------------------+----------+\n",
      "only showing top 100 rows\n",
      "\n"
     ]
    }
   ],
   "source": [
    "pred_test.show(100)"
   ]
  },
  {
   "cell_type": "code",
   "execution_count": 62,
   "metadata": {},
   "outputs": [
    {
     "data": {
      "text/plain": [
       "[('features', 'vector'),\n",
       " ('grav_binaire', 'double'),\n",
       " ('rawPrediction', 'vector'),\n",
       " ('probability', 'vector'),\n",
       " ('prediction', 'double')]"
      ]
     },
     "execution_count": 62,
     "metadata": {},
     "output_type": "execute_result"
    }
   ],
   "source": [
    "pred_test.dtypes"
   ]
  },
  {
   "cell_type": "code",
   "execution_count": 63,
   "metadata": {},
   "outputs": [
    {
     "name": "stdout",
     "output_type": "stream",
     "text": [
      "Test Error Logistic Regression = 0.169608 \n"
     ]
    }
   ],
   "source": [
    "# On évalue la précision du modèle\n",
    "evaluator = MulticlassClassificationEvaluator(\n",
    "    labelCol=\"grav_binaire\", predictionCol=\"prediction\", metricName=\"accuracy\")\n",
    "\n",
    "accuracy_lr = evaluator.evaluate(pred_test)\n",
    "print(\"Test Error Logistic Regression = %g \" % (1.0 - accuracy_lr))"
   ]
  },
  {
   "cell_type": "markdown",
   "metadata": {},
   "source": [
    "## III.3 Model 2 : Random Forest"
   ]
  },
  {
   "cell_type": "code",
   "execution_count": 64,
   "metadata": {},
   "outputs": [],
   "source": [
    "rf = RandomForestClassifier(labelCol=\"grav_binaire\", \n",
    "                            featuresCol=\"features\", \n",
    "                            numTrees=10, \n",
    "                            maxDepth=1\n",
    "                           )"
   ]
  },
  {
   "cell_type": "code",
   "execution_count": 65,
   "metadata": {},
   "outputs": [
    {
     "name": "stdout",
     "output_type": "stream",
     "text": [
      "CPU times: user 95.2 ms, sys: 32.1 ms, total: 127 ms\n",
      "Wall time: 2min 42s\n"
     ]
    }
   ],
   "source": [
    "%%time\n",
    "rf_model = rf.fit(train)"
   ]
  },
  {
   "cell_type": "code",
   "execution_count": 66,
   "metadata": {},
   "outputs": [
    {
     "name": "stdout",
     "output_type": "stream",
     "text": [
      "CPU times: user 15.5 ms, sys: 0 ns, total: 15.5 ms\n",
      "Wall time: 47.3 ms\n"
     ]
    }
   ],
   "source": [
    "%%time\n",
    "rf_predictions = rf_model.transform(test)"
   ]
  },
  {
   "cell_type": "code",
   "execution_count": 68,
   "metadata": {},
   "outputs": [
    {
     "name": "stdout",
     "output_type": "stream",
     "text": [
      "Test Error Random Forest = 0.210652 \n"
     ]
    }
   ],
   "source": [
    "accuracy_rf = evaluator.evaluate(rf_predictions)\n",
    "print(\"Test Error Random Forest = %g \" % (1.0 - accuracy_rf))"
   ]
  },
  {
   "cell_type": "markdown",
   "metadata": {},
   "source": [
    "Les paramètres que nous avons mis sur les 2 modèles sacrifient leur précision pour préférer la rapidité.  \n",
    "On constate qu'ils font à peine mieux que le prédicteur le plus plus simple qui consiste à dire que toutes les victimes sont en vie."
   ]
  }
 ],
 "metadata": {
  "kernelspec": {
   "display_name": "Python 3",
   "language": "python",
   "name": "python3"
  },
  "language_info": {
   "codemirror_mode": {
    "name": "ipython",
    "version": 3
   },
   "file_extension": ".py",
   "mimetype": "text/x-python",
   "name": "python",
   "nbconvert_exporter": "python",
   "pygments_lexer": "ipython3",
   "version": "3.6.5"
  }
 },
 "nbformat": 4,
 "nbformat_minor": 2
}
